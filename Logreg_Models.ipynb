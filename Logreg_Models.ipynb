{
 "cells": [
  {
   "cell_type": "code",
   "execution_count": 278,
   "metadata": {},
   "outputs": [],
   "source": [
    "import pandas as pd\n",
    "import numpy as np\n",
    "import matplotlib.pyplot as plt\n",
    "%matplotlib inline\n",
    "import seaborn as sns\n",
    "from sklearn.linear_model import LogisticRegressionCV\n",
    "from sklearn.model_selection import train_test_split\n",
    "from sklearn.preprocessing import StandardScaler, MinMaxScaler\n",
    "from sklearn.metrics import accuracy_score, precision_score, recall_score, f1_score, roc_curve, auc, roc_auc_score\n",
    "from sklearn.feature_selection import RFE\n",
    "from statsmodels.stats.outliers_influence import variance_inflation_factor\n",
    "\n",
    "pd.set_option('max_columns', 500)"
   ]
  },
  {
   "cell_type": "code",
   "execution_count": 279,
   "metadata": {},
   "outputs": [],
   "source": [
    "def print_metrics(label, pred):\n",
    "    print('Accuracy: ', accuracy_score(label, pred))\n",
    "    print('Precision: ', precision_score(label, pred))\n",
    "    print('Recall: ', recall_score(label, pred))\n",
    "    print('F1: ', f1_score(label, pred))\n",
    "    print('AUC: ', roc_auc_score(label, pred))"
   ]
  },
  {
   "cell_type": "code",
   "execution_count": 280,
   "metadata": {},
   "outputs": [],
   "source": [
    "df = pd.read_csv('preprocessed.csv',index_col=0)\n",
    "df_base = pd.read_csv('df_base.csv',index_col=0)"
   ]
  },
  {
   "cell_type": "code",
   "execution_count": 281,
   "metadata": {},
   "outputs": [],
   "source": [
    "tracker = pd.DataFrame(columns = ['train_acc','train_prec','train_rec','train_f1','train_auc','test_acc','test_prec',\n",
    "                                 'test_rec','test_f1','test_auc'])"
   ]
  },
  {
   "cell_type": "code",
   "execution_count": 282,
   "metadata": {},
   "outputs": [],
   "source": [
    "model_list = []"
   ]
  },
  {
   "cell_type": "code",
   "execution_count": 283,
   "metadata": {},
   "outputs": [],
   "source": [
    "def update_tracker(model,name, y_train, y_hat_train, y_test, y_hat_test):\n",
    "    train_acc = accuracy_score(y_train, y_hat_train)\n",
    "    train_prec = precision_score(y_train, y_hat_train)\n",
    "    train_rec = recall_score(y_train, y_hat_train)\n",
    "    train_f1 = f1_score(y_train, y_hat_train)\n",
    "    train_auc = roc_auc_score(y_train, y_hat_train)\n",
    "    \n",
    "    test_acc = accuracy_score(y_test, y_hat_test)\n",
    "    test_prec = precision_score(y_test, y_hat_test)\n",
    "    test_rec = recall_score(y_test, y_hat_test)\n",
    "    test_f1 = f1_score(y_test, y_hat_test)\n",
    "    test_auc = roc_auc_score(y_test, y_hat_test)\n",
    "    \n",
    "    model_list.append(model)\n",
    "    \n",
    "    tracker.loc[name] = [train_acc, train_prec, train_rec, train_f1, train_auc, test_acc, test_prec, test_rec, test_f1, test_auc]"
   ]
  },
  {
   "cell_type": "markdown",
   "metadata": {},
   "source": [
    "# DF_Base - Baseline"
   ]
  },
  {
   "cell_type": "code",
   "execution_count": 284,
   "metadata": {},
   "outputs": [],
   "source": [
    "y = df_base['Churn']\n",
    "X = df_base.drop(['Churn'],axis=1)"
   ]
  },
  {
   "cell_type": "code",
   "execution_count": 285,
   "metadata": {},
   "outputs": [],
   "source": [
    "X_train, X_test, y_train, y_test = train_test_split(X,y,test_size=.25,random_state=0)"
   ]
  },
  {
   "cell_type": "code",
   "execution_count": 286,
   "metadata": {},
   "outputs": [
    {
     "name": "stderr",
     "output_type": "stream",
     "text": [
      "[Parallel(n_jobs=-1)]: Using backend LokyBackend with 8 concurrent workers.\n",
      "[Parallel(n_jobs=-1)]: Done   2 out of   5 | elapsed:    0.3s remaining:    0.5s\n",
      "[Parallel(n_jobs=-1)]: Done   5 out of   5 | elapsed:    0.9s finished\n"
     ]
    }
   ],
   "source": [
    "logreg_df_base = LogisticRegressionCV(solver='liblinear', max_iter=1000, cv=5, verbose=1, n_jobs=-1,scoring='f1')\n",
    "logreg_df_base.fit(X_train, y_train)\n",
    "\n",
    "y_hat_train = logreg_df_base.predict(X_train)\n",
    "y_hat_test = logreg_df_base.predict(X_test)"
   ]
  },
  {
   "cell_type": "code",
   "execution_count": 287,
   "metadata": {},
   "outputs": [
    {
     "data": {
      "text/html": [
       "<div>\n",
       "<style scoped>\n",
       "    .dataframe tbody tr th:only-of-type {\n",
       "        vertical-align: middle;\n",
       "    }\n",
       "\n",
       "    .dataframe tbody tr th {\n",
       "        vertical-align: top;\n",
       "    }\n",
       "\n",
       "    .dataframe thead th {\n",
       "        text-align: right;\n",
       "    }\n",
       "</style>\n",
       "<table border=\"1\" class=\"dataframe\">\n",
       "  <thead>\n",
       "    <tr style=\"text-align: right;\">\n",
       "      <th></th>\n",
       "      <th>train_acc</th>\n",
       "      <th>train_prec</th>\n",
       "      <th>train_rec</th>\n",
       "      <th>train_f1</th>\n",
       "      <th>train_auc</th>\n",
       "      <th>test_acc</th>\n",
       "      <th>test_prec</th>\n",
       "      <th>test_rec</th>\n",
       "      <th>test_f1</th>\n",
       "      <th>test_auc</th>\n",
       "    </tr>\n",
       "  </thead>\n",
       "  <tbody>\n",
       "    <tr>\n",
       "      <th>logreg_df_base</th>\n",
       "      <td>0.80837</td>\n",
       "      <td>0.661889</td>\n",
       "      <td>0.562321</td>\n",
       "      <td>0.608056</td>\n",
       "      <td>0.729552</td>\n",
       "      <td>0.797274</td>\n",
       "      <td>0.65508</td>\n",
       "      <td>0.51797</td>\n",
       "      <td>0.578512</td>\n",
       "      <td>0.708908</td>\n",
       "    </tr>\n",
       "  </tbody>\n",
       "</table>\n",
       "</div>"
      ],
      "text/plain": [
       "                train_acc  train_prec  train_rec  train_f1  train_auc  \\\n",
       "logreg_df_base    0.80837    0.661889   0.562321  0.608056   0.729552   \n",
       "\n",
       "                test_acc  test_prec  test_rec   test_f1  test_auc  \n",
       "logreg_df_base  0.797274    0.65508   0.51797  0.578512  0.708908  "
      ]
     },
     "execution_count": 287,
     "metadata": {},
     "output_type": "execute_result"
    }
   ],
   "source": [
    "update_tracker(logreg_df_base,'logreg_df_base',y_train, y_hat_train, y_test, y_hat_test)\n",
    "tracker.head()"
   ]
  },
  {
   "cell_type": "markdown",
   "metadata": {},
   "source": [
    "# Baseline Logreg"
   ]
  },
  {
   "cell_type": "code",
   "execution_count": 288,
   "metadata": {},
   "outputs": [],
   "source": [
    "y = df['Churn']\n",
    "X = df.drop(['Churn'],axis=1)"
   ]
  },
  {
   "cell_type": "code",
   "execution_count": 289,
   "metadata": {},
   "outputs": [],
   "source": [
    "X_train, X_test, y_train, y_test = train_test_split(X,y,test_size=.25,random_state=0)"
   ]
  },
  {
   "cell_type": "code",
   "execution_count": 290,
   "metadata": {},
   "outputs": [
    {
     "name": "stderr",
     "output_type": "stream",
     "text": [
      "[Parallel(n_jobs=-1)]: Using backend LokyBackend with 8 concurrent workers.\n",
      "[Parallel(n_jobs=-1)]: Done   2 out of   5 | elapsed:    0.4s remaining:    0.6s\n",
      "[Parallel(n_jobs=-1)]: Done   5 out of   5 | elapsed:    0.4s finished\n"
     ]
    }
   ],
   "source": [
    "logreg_base = LogisticRegressionCV(solver='liblinear', max_iter=1000, cv=5, verbose=1, n_jobs=-1,scoring='f1')\n",
    "logreg_base.fit(X_train, y_train)\n",
    "\n",
    "y_hat_train = logreg_base.predict(X_train)\n",
    "y_hat_test = logreg_base.predict(X_test)"
   ]
  },
  {
   "cell_type": "code",
   "execution_count": 291,
   "metadata": {
    "scrolled": true
   },
   "outputs": [
    {
     "data": {
      "text/html": [
       "<div>\n",
       "<style scoped>\n",
       "    .dataframe tbody tr th:only-of-type {\n",
       "        vertical-align: middle;\n",
       "    }\n",
       "\n",
       "    .dataframe tbody tr th {\n",
       "        vertical-align: top;\n",
       "    }\n",
       "\n",
       "    .dataframe thead th {\n",
       "        text-align: right;\n",
       "    }\n",
       "</style>\n",
       "<table border=\"1\" class=\"dataframe\">\n",
       "  <thead>\n",
       "    <tr style=\"text-align: right;\">\n",
       "      <th></th>\n",
       "      <th>train_acc</th>\n",
       "      <th>train_prec</th>\n",
       "      <th>train_rec</th>\n",
       "      <th>train_f1</th>\n",
       "      <th>train_auc</th>\n",
       "      <th>test_acc</th>\n",
       "      <th>test_prec</th>\n",
       "      <th>test_rec</th>\n",
       "      <th>test_f1</th>\n",
       "      <th>test_auc</th>\n",
       "    </tr>\n",
       "  </thead>\n",
       "  <tbody>\n",
       "    <tr>\n",
       "      <th>logreg_df_base</th>\n",
       "      <td>0.808370</td>\n",
       "      <td>0.661889</td>\n",
       "      <td>0.562321</td>\n",
       "      <td>0.608056</td>\n",
       "      <td>0.729552</td>\n",
       "      <td>0.797274</td>\n",
       "      <td>0.655080</td>\n",
       "      <td>0.517970</td>\n",
       "      <td>0.578512</td>\n",
       "      <td>0.708908</td>\n",
       "    </tr>\n",
       "    <tr>\n",
       "      <th>logreg_base</th>\n",
       "      <td>0.811399</td>\n",
       "      <td>0.679533</td>\n",
       "      <td>0.542264</td>\n",
       "      <td>0.603187</td>\n",
       "      <td>0.725186</td>\n",
       "      <td>0.800681</td>\n",
       "      <td>0.662234</td>\n",
       "      <td>0.526427</td>\n",
       "      <td>0.586572</td>\n",
       "      <td>0.713912</td>\n",
       "    </tr>\n",
       "  </tbody>\n",
       "</table>\n",
       "</div>"
      ],
      "text/plain": [
       "                train_acc  train_prec  train_rec  train_f1  train_auc  \\\n",
       "logreg_df_base   0.808370    0.661889   0.562321  0.608056   0.729552   \n",
       "logreg_base      0.811399    0.679533   0.542264  0.603187   0.725186   \n",
       "\n",
       "                test_acc  test_prec  test_rec   test_f1  test_auc  \n",
       "logreg_df_base  0.797274   0.655080  0.517970  0.578512  0.708908  \n",
       "logreg_base     0.800681   0.662234  0.526427  0.586572  0.713912  "
      ]
     },
     "execution_count": 291,
     "metadata": {},
     "output_type": "execute_result"
    }
   ],
   "source": [
    "update_tracker(logreg_base,'logreg_base',y_train, y_hat_train, y_test, y_hat_test)\n",
    "tracker.head()"
   ]
  },
  {
   "cell_type": "markdown",
   "metadata": {},
   "source": [
    "# Logreg with Class Weights"
   ]
  },
  {
   "cell_type": "code",
   "execution_count": 292,
   "metadata": {},
   "outputs": [],
   "source": [
    "X_train, X_test, y_train, y_test = train_test_split(X,y,test_size=.25,random_state=0)"
   ]
  },
  {
   "cell_type": "code",
   "execution_count": 293,
   "metadata": {},
   "outputs": [
    {
     "name": "stderr",
     "output_type": "stream",
     "text": [
      "[Parallel(n_jobs=-1)]: Using backend LokyBackend with 8 concurrent workers.\n",
      "[Parallel(n_jobs=-1)]: Done   2 out of   5 | elapsed:    0.3s remaining:    0.5s\n",
      "[Parallel(n_jobs=-1)]: Done   5 out of   5 | elapsed:    0.3s finished\n"
     ]
    }
   ],
   "source": [
    "logreg_weight = LogisticRegressionCV(solver='liblinear', max_iter=1000, class_weight='balanced', cv=5, verbose=1, n_jobs=-1,scoring='f1')\n",
    "logreg_weight.fit(X_train, y_train)\n",
    "\n",
    "y_hat_train = logreg_weight.predict(X_train)\n",
    "y_hat_test = logreg_weight.predict(X_test)"
   ]
  },
  {
   "cell_type": "code",
   "execution_count": 294,
   "metadata": {},
   "outputs": [
    {
     "data": {
      "text/html": [
       "<div>\n",
       "<style scoped>\n",
       "    .dataframe tbody tr th:only-of-type {\n",
       "        vertical-align: middle;\n",
       "    }\n",
       "\n",
       "    .dataframe tbody tr th {\n",
       "        vertical-align: top;\n",
       "    }\n",
       "\n",
       "    .dataframe thead th {\n",
       "        text-align: right;\n",
       "    }\n",
       "</style>\n",
       "<table border=\"1\" class=\"dataframe\">\n",
       "  <thead>\n",
       "    <tr style=\"text-align: right;\">\n",
       "      <th></th>\n",
       "      <th>train_acc</th>\n",
       "      <th>train_prec</th>\n",
       "      <th>train_rec</th>\n",
       "      <th>train_f1</th>\n",
       "      <th>train_auc</th>\n",
       "      <th>test_acc</th>\n",
       "      <th>test_prec</th>\n",
       "      <th>test_rec</th>\n",
       "      <th>test_f1</th>\n",
       "      <th>test_auc</th>\n",
       "    </tr>\n",
       "  </thead>\n",
       "  <tbody>\n",
       "    <tr>\n",
       "      <th>logreg_df_base</th>\n",
       "      <td>0.808370</td>\n",
       "      <td>0.661889</td>\n",
       "      <td>0.562321</td>\n",
       "      <td>0.608056</td>\n",
       "      <td>0.729552</td>\n",
       "      <td>0.797274</td>\n",
       "      <td>0.655080</td>\n",
       "      <td>0.517970</td>\n",
       "      <td>0.578512</td>\n",
       "      <td>0.708908</td>\n",
       "    </tr>\n",
       "    <tr>\n",
       "      <th>logreg_base</th>\n",
       "      <td>0.811399</td>\n",
       "      <td>0.679533</td>\n",
       "      <td>0.542264</td>\n",
       "      <td>0.603187</td>\n",
       "      <td>0.725186</td>\n",
       "      <td>0.800681</td>\n",
       "      <td>0.662234</td>\n",
       "      <td>0.526427</td>\n",
       "      <td>0.586572</td>\n",
       "      <td>0.713912</td>\n",
       "    </tr>\n",
       "    <tr>\n",
       "      <th>logreg_weight</th>\n",
       "      <td>0.759894</td>\n",
       "      <td>0.530019</td>\n",
       "      <td>0.809456</td>\n",
       "      <td>0.640590</td>\n",
       "      <td>0.775770</td>\n",
       "      <td>0.748438</td>\n",
       "      <td>0.520833</td>\n",
       "      <td>0.792812</td>\n",
       "      <td>0.628667</td>\n",
       "      <td>0.762477</td>\n",
       "    </tr>\n",
       "  </tbody>\n",
       "</table>\n",
       "</div>"
      ],
      "text/plain": [
       "                train_acc  train_prec  train_rec  train_f1  train_auc  \\\n",
       "logreg_df_base   0.808370    0.661889   0.562321  0.608056   0.729552   \n",
       "logreg_base      0.811399    0.679533   0.542264  0.603187   0.725186   \n",
       "logreg_weight    0.759894    0.530019   0.809456  0.640590   0.775770   \n",
       "\n",
       "                test_acc  test_prec  test_rec   test_f1  test_auc  \n",
       "logreg_df_base  0.797274   0.655080  0.517970  0.578512  0.708908  \n",
       "logreg_base     0.800681   0.662234  0.526427  0.586572  0.713912  \n",
       "logreg_weight   0.748438   0.520833  0.792812  0.628667  0.762477  "
      ]
     },
     "execution_count": 294,
     "metadata": {},
     "output_type": "execute_result"
    }
   ],
   "source": [
    "update_tracker(logreg_weight,'logreg_weight',y_train, y_hat_train, y_test, y_hat_test)\n",
    "tracker.head()"
   ]
  },
  {
   "cell_type": "markdown",
   "metadata": {},
   "source": [
    "# Logreg with Upsampling"
   ]
  },
  {
   "cell_type": "code",
   "execution_count": 295,
   "metadata": {},
   "outputs": [],
   "source": [
    "y = df['Churn']\n",
    "X = df.drop(['Churn'],axis=1)\n",
    "\n",
    "X_train, X_test, y_train, y_test = train_test_split(X,y,test_size=.25,random_state=0)"
   ]
  },
  {
   "cell_type": "code",
   "execution_count": 296,
   "metadata": {},
   "outputs": [],
   "source": [
    "training = pd.concat([X_train, y_train],axis=1)"
   ]
  },
  {
   "cell_type": "code",
   "execution_count": 297,
   "metadata": {},
   "outputs": [],
   "source": [
    "churn = training[training['Churn']==1]\n",
    "no_churn = training[training['Churn']==0]"
   ]
  },
  {
   "cell_type": "code",
   "execution_count": 298,
   "metadata": {},
   "outputs": [],
   "source": [
    "from sklearn.utils import resample"
   ]
  },
  {
   "cell_type": "code",
   "execution_count": 299,
   "metadata": {},
   "outputs": [],
   "source": [
    "# upsample minority\n",
    "churn_upsampled = resample(churn,\n",
    "                          replace=True, # sample with replacement\n",
    "                          n_samples=len(no_churn), # match number in majority class\n",
    "                          random_state=23) # reproducible results"
   ]
  },
  {
   "cell_type": "code",
   "execution_count": 300,
   "metadata": {},
   "outputs": [],
   "source": [
    "# combine majority and upsampled minority\n",
    "upsampled = pd.concat([no_churn, churn_upsampled])"
   ]
  },
  {
   "cell_type": "code",
   "execution_count": 301,
   "metadata": {},
   "outputs": [],
   "source": [
    "y_train = upsampled['Churn']\n",
    "X_train = upsampled.drop(['Churn'],axis=1)"
   ]
  },
  {
   "cell_type": "code",
   "execution_count": 302,
   "metadata": {},
   "outputs": [
    {
     "name": "stderr",
     "output_type": "stream",
     "text": [
      "[Parallel(n_jobs=-1)]: Using backend LokyBackend with 8 concurrent workers.\n",
      "[Parallel(n_jobs=-1)]: Done   2 out of   5 | elapsed:    0.4s remaining:    0.7s\n",
      "[Parallel(n_jobs=-1)]: Done   5 out of   5 | elapsed:    0.5s finished\n"
     ]
    }
   ],
   "source": [
    "logreg_up = LogisticRegressionCV(solver='liblinear',max_iter=1000,cv=5, verbose=1, n_jobs=-1,scoring='f1')\n",
    "logreg_up.fit(X_train, y_train)\n",
    "\n",
    "y_hat_train = logreg_up.predict(X_train)\n",
    "y_hat_test = logreg_up.predict(X_test)"
   ]
  },
  {
   "cell_type": "code",
   "execution_count": 303,
   "metadata": {
    "scrolled": true
   },
   "outputs": [
    {
     "data": {
      "text/html": [
       "<div>\n",
       "<style scoped>\n",
       "    .dataframe tbody tr th:only-of-type {\n",
       "        vertical-align: middle;\n",
       "    }\n",
       "\n",
       "    .dataframe tbody tr th {\n",
       "        vertical-align: top;\n",
       "    }\n",
       "\n",
       "    .dataframe thead th {\n",
       "        text-align: right;\n",
       "    }\n",
       "</style>\n",
       "<table border=\"1\" class=\"dataframe\">\n",
       "  <thead>\n",
       "    <tr style=\"text-align: right;\">\n",
       "      <th></th>\n",
       "      <th>train_acc</th>\n",
       "      <th>train_prec</th>\n",
       "      <th>train_rec</th>\n",
       "      <th>train_f1</th>\n",
       "      <th>train_auc</th>\n",
       "      <th>test_acc</th>\n",
       "      <th>test_prec</th>\n",
       "      <th>test_rec</th>\n",
       "      <th>test_f1</th>\n",
       "      <th>test_auc</th>\n",
       "    </tr>\n",
       "  </thead>\n",
       "  <tbody>\n",
       "    <tr>\n",
       "      <th>logreg_df_base</th>\n",
       "      <td>0.808370</td>\n",
       "      <td>0.661889</td>\n",
       "      <td>0.562321</td>\n",
       "      <td>0.608056</td>\n",
       "      <td>0.729552</td>\n",
       "      <td>0.797274</td>\n",
       "      <td>0.655080</td>\n",
       "      <td>0.517970</td>\n",
       "      <td>0.578512</td>\n",
       "      <td>0.708908</td>\n",
       "    </tr>\n",
       "    <tr>\n",
       "      <th>logreg_base</th>\n",
       "      <td>0.811399</td>\n",
       "      <td>0.679533</td>\n",
       "      <td>0.542264</td>\n",
       "      <td>0.603187</td>\n",
       "      <td>0.725186</td>\n",
       "      <td>0.800681</td>\n",
       "      <td>0.662234</td>\n",
       "      <td>0.526427</td>\n",
       "      <td>0.586572</td>\n",
       "      <td>0.713912</td>\n",
       "    </tr>\n",
       "    <tr>\n",
       "      <th>logreg_weight</th>\n",
       "      <td>0.759894</td>\n",
       "      <td>0.530019</td>\n",
       "      <td>0.809456</td>\n",
       "      <td>0.640590</td>\n",
       "      <td>0.775770</td>\n",
       "      <td>0.748438</td>\n",
       "      <td>0.520833</td>\n",
       "      <td>0.792812</td>\n",
       "      <td>0.628667</td>\n",
       "      <td>0.762477</td>\n",
       "    </tr>\n",
       "    <tr>\n",
       "      <th>logreg_up</th>\n",
       "      <td>0.773230</td>\n",
       "      <td>0.756215</td>\n",
       "      <td>0.806435</td>\n",
       "      <td>0.780518</td>\n",
       "      <td>0.773230</td>\n",
       "      <td>0.751278</td>\n",
       "      <td>0.524407</td>\n",
       "      <td>0.794926</td>\n",
       "      <td>0.631933</td>\n",
       "      <td>0.765087</td>\n",
       "    </tr>\n",
       "  </tbody>\n",
       "</table>\n",
       "</div>"
      ],
      "text/plain": [
       "                train_acc  train_prec  train_rec  train_f1  train_auc  \\\n",
       "logreg_df_base   0.808370    0.661889   0.562321  0.608056   0.729552   \n",
       "logreg_base      0.811399    0.679533   0.542264  0.603187   0.725186   \n",
       "logreg_weight    0.759894    0.530019   0.809456  0.640590   0.775770   \n",
       "logreg_up        0.773230    0.756215   0.806435  0.780518   0.773230   \n",
       "\n",
       "                test_acc  test_prec  test_rec   test_f1  test_auc  \n",
       "logreg_df_base  0.797274   0.655080  0.517970  0.578512  0.708908  \n",
       "logreg_base     0.800681   0.662234  0.526427  0.586572  0.713912  \n",
       "logreg_weight   0.748438   0.520833  0.792812  0.628667  0.762477  \n",
       "logreg_up       0.751278   0.524407  0.794926  0.631933  0.765087  "
      ]
     },
     "execution_count": 303,
     "metadata": {},
     "output_type": "execute_result"
    }
   ],
   "source": [
    "update_tracker(logreg_up,'logreg_up',y_train, y_hat_train, y_test, y_hat_test)\n",
    "tracker.head()"
   ]
  },
  {
   "cell_type": "code",
   "execution_count": 304,
   "metadata": {
    "scrolled": true
   },
   "outputs": [
    {
     "data": {
      "text/plain": [
       "Text(0.5, 1.0, 'Feature Importance')"
      ]
     },
     "execution_count": 304,
     "metadata": {},
     "output_type": "execute_result"
    },
    {
     "data": {
      "image/png": "[encoded data removed]",
      "text/plain": [
       "<Figure size 1152x576 with 1 Axes>"
      ]
     },
     "metadata": {
      "needs_background": "light"
     },
     "output_type": "display_data"
    }
   ],
   "source": [
    "best_features_ranking = pd.DataFrame(list(zip(X_train,logreg_up.coef_[0])),columns=['feature','importance'])\n",
    "best_features_ranking = best_features_ranking.sort_values(by='importance')\n",
    "plt.figure(figsize=(16,8))\n",
    "chart = sns.barplot(x='importance',y='feature',data=best_features_ranking, ci=None,orient='h')\n",
    "plt.title('Feature Importance')"
   ]
  },
  {
   "cell_type": "code",
   "execution_count": 305,
   "metadata": {},
   "outputs": [],
   "source": [
    "from sklearn import svm, datasets\n",
    "from sklearn.model_selection import train_test_split\n",
    "from sklearn.metrics import plot_confusion_matrix"
   ]
  },
  {
   "cell_type": "code",
   "execution_count": 306,
   "metadata": {},
   "outputs": [
    {
     "data": {
      "text/plain": [
       "<sklearn.metrics._plot.confusion_matrix.ConfusionMatrixDisplay at 0x12ac7de20>"
      ]
     },
     "execution_count": 306,
     "metadata": {},
     "output_type": "execute_result"
    },
    {
     "data": {
      "image/png": "[encoded data removed]",
      "text/plain": [
       "<Figure size 432x288 with 2 Axes>"
      ]
     },
     "metadata": {
      "needs_background": "light"
     },
     "output_type": "display_data"
    }
   ],
   "source": [
    "plot_confusion_matrix(logreg_up,X_test,y_test,cmap=plt.cm.Blues)"
   ]
  },
  {
   "cell_type": "markdown",
   "metadata": {},
   "source": [
    "# Logreg with Downsampling"
   ]
  },
  {
   "cell_type": "code",
   "execution_count": 307,
   "metadata": {},
   "outputs": [],
   "source": [
    "y = df['Churn']\n",
    "X = df.drop(['Churn'],axis=1)\n",
    "\n",
    "X_train, X_test, y_train, y_test = train_test_split(X,y,test_size=.25,random_state=0)"
   ]
  },
  {
   "cell_type": "code",
   "execution_count": 308,
   "metadata": {},
   "outputs": [],
   "source": [
    "training = pd.concat([X_train, y_train],axis=1)"
   ]
  },
  {
   "cell_type": "code",
   "execution_count": 309,
   "metadata": {},
   "outputs": [],
   "source": [
    "churn = training[training['Churn']==1]\n",
    "no_churn = training[training['Churn']==0]"
   ]
  },
  {
   "cell_type": "code",
   "execution_count": 310,
   "metadata": {},
   "outputs": [],
   "source": [
    "# downsample minority\n",
    "no_churn_downsampled = resample(no_churn,\n",
    "                          replace=True, # sample with replacement\n",
    "                          n_samples=len(churn), # match number in majority class\n",
    "                          random_state=23) # reproducible results"
   ]
  },
  {
   "cell_type": "code",
   "execution_count": 311,
   "metadata": {},
   "outputs": [
    {
     "data": {
      "text/plain": [
       "0.0    1396\n",
       "1.0    1396\n",
       "Name: Churn, dtype: int64"
      ]
     },
     "execution_count": 311,
     "metadata": {},
     "output_type": "execute_result"
    }
   ],
   "source": [
    "# combine minority and downsampled majority\n",
    "downsampled = pd.concat([churn, no_churn_downsampled])\n",
    "\n",
    "# checking counts\n",
    "downsampled.Churn.value_counts()"
   ]
  },
  {
   "cell_type": "code",
   "execution_count": 312,
   "metadata": {},
   "outputs": [],
   "source": [
    "y_train = downsampled['Churn']\n",
    "X_train = downsampled.drop(['Churn'],axis=1)"
   ]
  },
  {
   "cell_type": "code",
   "execution_count": 313,
   "metadata": {},
   "outputs": [
    {
     "name": "stderr",
     "output_type": "stream",
     "text": [
      "[Parallel(n_jobs=-1)]: Using backend LokyBackend with 8 concurrent workers.\n",
      "[Parallel(n_jobs=-1)]: Done   2 out of   5 | elapsed:    0.2s remaining:    0.2s\n",
      "[Parallel(n_jobs=-1)]: Done   5 out of   5 | elapsed:    0.2s finished\n"
     ]
    }
   ],
   "source": [
    "logreg_down = LogisticRegressionCV(solver='liblinear',max_iter=1000,cv=5,verbose=1, n_jobs=-1,scoring='f1')\n",
    "logreg_down.fit(X_train, y_train)\n",
    "\n",
    "y_hat_train = logreg_down.predict(X_train)\n",
    "y_hat_test = logreg_down.predict(X_test)"
   ]
  },
  {
   "cell_type": "code",
   "execution_count": 314,
   "metadata": {},
   "outputs": [
    {
     "data": {
      "text/html": [
       "<div>\n",
       "<style scoped>\n",
       "    .dataframe tbody tr th:only-of-type {\n",
       "        vertical-align: middle;\n",
       "    }\n",
       "\n",
       "    .dataframe tbody tr th {\n",
       "        vertical-align: top;\n",
       "    }\n",
       "\n",
       "    .dataframe thead th {\n",
       "        text-align: right;\n",
       "    }\n",
       "</style>\n",
       "<table border=\"1\" class=\"dataframe\">\n",
       "  <thead>\n",
       "    <tr style=\"text-align: right;\">\n",
       "      <th></th>\n",
       "      <th>train_acc</th>\n",
       "      <th>train_prec</th>\n",
       "      <th>train_rec</th>\n",
       "      <th>train_f1</th>\n",
       "      <th>train_auc</th>\n",
       "      <th>test_acc</th>\n",
       "      <th>test_prec</th>\n",
       "      <th>test_rec</th>\n",
       "      <th>test_f1</th>\n",
       "      <th>test_auc</th>\n",
       "    </tr>\n",
       "  </thead>\n",
       "  <tbody>\n",
       "    <tr>\n",
       "      <th>logreg_df_base</th>\n",
       "      <td>0.808370</td>\n",
       "      <td>0.661889</td>\n",
       "      <td>0.562321</td>\n",
       "      <td>0.608056</td>\n",
       "      <td>0.729552</td>\n",
       "      <td>0.797274</td>\n",
       "      <td>0.655080</td>\n",
       "      <td>0.517970</td>\n",
       "      <td>0.578512</td>\n",
       "      <td>0.708908</td>\n",
       "    </tr>\n",
       "    <tr>\n",
       "      <th>logreg_base</th>\n",
       "      <td>0.811399</td>\n",
       "      <td>0.679533</td>\n",
       "      <td>0.542264</td>\n",
       "      <td>0.603187</td>\n",
       "      <td>0.725186</td>\n",
       "      <td>0.800681</td>\n",
       "      <td>0.662234</td>\n",
       "      <td>0.526427</td>\n",
       "      <td>0.586572</td>\n",
       "      <td>0.713912</td>\n",
       "    </tr>\n",
       "    <tr>\n",
       "      <th>logreg_weight</th>\n",
       "      <td>0.759894</td>\n",
       "      <td>0.530019</td>\n",
       "      <td>0.809456</td>\n",
       "      <td>0.640590</td>\n",
       "      <td>0.775770</td>\n",
       "      <td>0.748438</td>\n",
       "      <td>0.520833</td>\n",
       "      <td>0.792812</td>\n",
       "      <td>0.628667</td>\n",
       "      <td>0.762477</td>\n",
       "    </tr>\n",
       "    <tr>\n",
       "      <th>logreg_up</th>\n",
       "      <td>0.773230</td>\n",
       "      <td>0.756215</td>\n",
       "      <td>0.806435</td>\n",
       "      <td>0.780518</td>\n",
       "      <td>0.773230</td>\n",
       "      <td>0.751278</td>\n",
       "      <td>0.524407</td>\n",
       "      <td>0.794926</td>\n",
       "      <td>0.631933</td>\n",
       "      <td>0.765087</td>\n",
       "    </tr>\n",
       "    <tr>\n",
       "      <th>logreg_down</th>\n",
       "      <td>0.773281</td>\n",
       "      <td>0.755869</td>\n",
       "      <td>0.807307</td>\n",
       "      <td>0.780741</td>\n",
       "      <td>0.773281</td>\n",
       "      <td>0.742192</td>\n",
       "      <td>0.513032</td>\n",
       "      <td>0.790698</td>\n",
       "      <td>0.622296</td>\n",
       "      <td>0.757538</td>\n",
       "    </tr>\n",
       "  </tbody>\n",
       "</table>\n",
       "</div>"
      ],
      "text/plain": [
       "                train_acc  train_prec  train_rec  train_f1  train_auc  \\\n",
       "logreg_df_base   0.808370    0.661889   0.562321  0.608056   0.729552   \n",
       "logreg_base      0.811399    0.679533   0.542264  0.603187   0.725186   \n",
       "logreg_weight    0.759894    0.530019   0.809456  0.640590   0.775770   \n",
       "logreg_up        0.773230    0.756215   0.806435  0.780518   0.773230   \n",
       "logreg_down      0.773281    0.755869   0.807307  0.780741   0.773281   \n",
       "\n",
       "                test_acc  test_prec  test_rec   test_f1  test_auc  \n",
       "logreg_df_base  0.797274   0.655080  0.517970  0.578512  0.708908  \n",
       "logreg_base     0.800681   0.662234  0.526427  0.586572  0.713912  \n",
       "logreg_weight   0.748438   0.520833  0.792812  0.628667  0.762477  \n",
       "logreg_up       0.751278   0.524407  0.794926  0.631933  0.765087  \n",
       "logreg_down     0.742192   0.513032  0.790698  0.622296  0.757538  "
      ]
     },
     "execution_count": 314,
     "metadata": {},
     "output_type": "execute_result"
    }
   ],
   "source": [
    "update_tracker(logreg_down,'logreg_down',y_train, y_hat_train, y_test, y_hat_test)\n",
    "tracker.head()"
   ]
  },
  {
   "cell_type": "markdown",
   "metadata": {},
   "source": [
    "# Logreg with SMOTE"
   ]
  },
  {
   "cell_type": "code",
   "execution_count": 315,
   "metadata": {},
   "outputs": [],
   "source": [
    "from imblearn.over_sampling import SMOTE"
   ]
  },
  {
   "cell_type": "code",
   "execution_count": 316,
   "metadata": {},
   "outputs": [],
   "source": [
    "y = df['Churn']\n",
    "X = df.drop(['Churn'],axis=1)"
   ]
  },
  {
   "cell_type": "code",
   "execution_count": 317,
   "metadata": {},
   "outputs": [],
   "source": [
    "# setting up testing and training sets\n",
    "X_train, X_test, y_train, y_test = train_test_split(X, y, test_size=0.25, random_state=23)"
   ]
  },
  {
   "cell_type": "code",
   "execution_count": 318,
   "metadata": {},
   "outputs": [],
   "source": [
    "sm = SMOTE(random_state=23)\n",
    "X_train, y_train = sm.fit_sample(X_train, y_train)"
   ]
  },
  {
   "cell_type": "code",
   "execution_count": 319,
   "metadata": {},
   "outputs": [
    {
     "name": "stderr",
     "output_type": "stream",
     "text": [
      "[Parallel(n_jobs=-1)]: Using backend LokyBackend with 8 concurrent workers.\n",
      "[Parallel(n_jobs=-1)]: Done   2 out of   5 | elapsed:    0.5s remaining:    0.7s\n",
      "[Parallel(n_jobs=-1)]: Done   5 out of   5 | elapsed:    0.5s finished\n"
     ]
    }
   ],
   "source": [
    "logreg_smote = LogisticRegressionCV(solver='liblinear',max_iter=1000,cv=5, verbose=1, n_jobs=-1,scoring='f1')\n",
    "logreg_smote.fit(X_train, y_train)\n",
    "\n",
    "y_hat_train = logreg_smote.predict(X_train)\n",
    "y_hat_test = logreg_smote.predict(X_test)"
   ]
  },
  {
   "cell_type": "code",
   "execution_count": 320,
   "metadata": {
    "scrolled": true
   },
   "outputs": [
    {
     "data": {
      "text/html": [
       "<div>\n",
       "<style scoped>\n",
       "    .dataframe tbody tr th:only-of-type {\n",
       "        vertical-align: middle;\n",
       "    }\n",
       "\n",
       "    .dataframe tbody tr th {\n",
       "        vertical-align: top;\n",
       "    }\n",
       "\n",
       "    .dataframe thead th {\n",
       "        text-align: right;\n",
       "    }\n",
       "</style>\n",
       "<table border=\"1\" class=\"dataframe\">\n",
       "  <thead>\n",
       "    <tr style=\"text-align: right;\">\n",
       "      <th></th>\n",
       "      <th>train_acc</th>\n",
       "      <th>train_prec</th>\n",
       "      <th>train_rec</th>\n",
       "      <th>train_f1</th>\n",
       "      <th>train_auc</th>\n",
       "      <th>test_acc</th>\n",
       "      <th>test_prec</th>\n",
       "      <th>test_rec</th>\n",
       "      <th>test_f1</th>\n",
       "      <th>test_auc</th>\n",
       "    </tr>\n",
       "  </thead>\n",
       "  <tbody>\n",
       "    <tr>\n",
       "      <th>logreg_df_base</th>\n",
       "      <td>0.808370</td>\n",
       "      <td>0.661889</td>\n",
       "      <td>0.562321</td>\n",
       "      <td>0.608056</td>\n",
       "      <td>0.729552</td>\n",
       "      <td>0.797274</td>\n",
       "      <td>0.655080</td>\n",
       "      <td>0.517970</td>\n",
       "      <td>0.578512</td>\n",
       "      <td>0.708908</td>\n",
       "    </tr>\n",
       "    <tr>\n",
       "      <th>logreg_base</th>\n",
       "      <td>0.811399</td>\n",
       "      <td>0.679533</td>\n",
       "      <td>0.542264</td>\n",
       "      <td>0.603187</td>\n",
       "      <td>0.725186</td>\n",
       "      <td>0.800681</td>\n",
       "      <td>0.662234</td>\n",
       "      <td>0.526427</td>\n",
       "      <td>0.586572</td>\n",
       "      <td>0.713912</td>\n",
       "    </tr>\n",
       "    <tr>\n",
       "      <th>logreg_weight</th>\n",
       "      <td>0.759894</td>\n",
       "      <td>0.530019</td>\n",
       "      <td>0.809456</td>\n",
       "      <td>0.640590</td>\n",
       "      <td>0.775770</td>\n",
       "      <td>0.748438</td>\n",
       "      <td>0.520833</td>\n",
       "      <td>0.792812</td>\n",
       "      <td>0.628667</td>\n",
       "      <td>0.762477</td>\n",
       "    </tr>\n",
       "    <tr>\n",
       "      <th>logreg_up</th>\n",
       "      <td>0.773230</td>\n",
       "      <td>0.756215</td>\n",
       "      <td>0.806435</td>\n",
       "      <td>0.780518</td>\n",
       "      <td>0.773230</td>\n",
       "      <td>0.751278</td>\n",
       "      <td>0.524407</td>\n",
       "      <td>0.794926</td>\n",
       "      <td>0.631933</td>\n",
       "      <td>0.765087</td>\n",
       "    </tr>\n",
       "    <tr>\n",
       "      <th>logreg_down</th>\n",
       "      <td>0.773281</td>\n",
       "      <td>0.755869</td>\n",
       "      <td>0.807307</td>\n",
       "      <td>0.780741</td>\n",
       "      <td>0.773281</td>\n",
       "      <td>0.742192</td>\n",
       "      <td>0.513032</td>\n",
       "      <td>0.790698</td>\n",
       "      <td>0.622296</td>\n",
       "      <td>0.757538</td>\n",
       "    </tr>\n",
       "  </tbody>\n",
       "</table>\n",
       "</div>"
      ],
      "text/plain": [
       "                train_acc  train_prec  train_rec  train_f1  train_auc  \\\n",
       "logreg_df_base   0.808370    0.661889   0.562321  0.608056   0.729552   \n",
       "logreg_base      0.811399    0.679533   0.542264  0.603187   0.725186   \n",
       "logreg_weight    0.759894    0.530019   0.809456  0.640590   0.775770   \n",
       "logreg_up        0.773230    0.756215   0.806435  0.780518   0.773230   \n",
       "logreg_down      0.773281    0.755869   0.807307  0.780741   0.773281   \n",
       "\n",
       "                test_acc  test_prec  test_rec   test_f1  test_auc  \n",
       "logreg_df_base  0.797274   0.655080  0.517970  0.578512  0.708908  \n",
       "logreg_base     0.800681   0.662234  0.526427  0.586572  0.713912  \n",
       "logreg_weight   0.748438   0.520833  0.792812  0.628667  0.762477  \n",
       "logreg_up       0.751278   0.524407  0.794926  0.631933  0.765087  \n",
       "logreg_down     0.742192   0.513032  0.790698  0.622296  0.757538  "
      ]
     },
     "execution_count": 320,
     "metadata": {},
     "output_type": "execute_result"
    }
   ],
   "source": [
    "update_tracker(logreg_smote,'logreg_smote',y_train, y_hat_train, y_test, y_hat_test)\n",
    "tracker.head()"
   ]
  },
  {
   "cell_type": "code",
   "execution_count": 321,
   "metadata": {},
   "outputs": [
    {
     "data": {
      "text/plain": [
       "Text(0.5, 1.0, 'Feature Importance')"
      ]
     },
     "execution_count": 321,
     "metadata": {},
     "output_type": "execute_result"
    },
    {
     "data": {
      "image/png": "[encoded data removed]",
      "text/plain": [
       "<Figure size 1152x576 with 1 Axes>"
      ]
     },
     "metadata": {
      "needs_background": "light"
     },
     "output_type": "display_data"
    }
   ],
   "source": [
    "best_features_ranking = pd.DataFrame(list(zip(X_train,logreg_smote.coef_[0])),columns=['feature','importance'])\n",
    "best_features_ranking = best_features_ranking.sort_values(by='importance')\n",
    "plt.figure(figsize=(16,8))\n",
    "chart = sns.barplot(x='importance',y='feature',data=best_features_ranking, ci=None,orient='h')\n",
    "plt.title('Feature Importance')"
   ]
  },
  {
   "cell_type": "markdown",
   "metadata": {},
   "source": [
    "# Logreg with TOPEK"
   ]
  },
  {
   "cell_type": "code",
   "execution_count": 322,
   "metadata": {},
   "outputs": [],
   "source": [
    "from collections import Counter\n",
    "from imblearn.under_sampling import TomekLinks # doctest: +NORMALIZE_WHITESPACE"
   ]
  },
  {
   "cell_type": "code",
   "execution_count": 323,
   "metadata": {},
   "outputs": [],
   "source": [
    "y = df['Churn']\n",
    "X = df.drop(['Churn'],axis=1)"
   ]
  },
  {
   "cell_type": "code",
   "execution_count": 324,
   "metadata": {},
   "outputs": [],
   "source": [
    "# setting up testing and training sets\n",
    "X_train, X_test, y_train, y_test = train_test_split(X, y, test_size=0.25, random_state=23)"
   ]
  },
  {
   "cell_type": "code",
   "execution_count": 325,
   "metadata": {},
   "outputs": [
    {
     "name": "stdout",
     "output_type": "stream",
     "text": [
      "Resampled dataset shape Counter({0.0: 3504, 1.0: 1405})\n"
     ]
    }
   ],
   "source": [
    "tl = TomekLinks()\n",
    "X_train, y_train = tl.fit_resample(X_train, y_train)\n",
    "print('Resampled dataset shape %s' % Counter(y_train))"
   ]
  },
  {
   "cell_type": "code",
   "execution_count": 326,
   "metadata": {},
   "outputs": [
    {
     "name": "stderr",
     "output_type": "stream",
     "text": [
      "[Parallel(n_jobs=-1)]: Using backend LokyBackend with 8 concurrent workers.\n",
      "[Parallel(n_jobs=-1)]: Done   2 out of   5 | elapsed:    0.3s remaining:    0.5s\n",
      "[Parallel(n_jobs=-1)]: Done   5 out of   5 | elapsed:    0.4s finished\n"
     ]
    }
   ],
   "source": [
    "logreg_tomek = LogisticRegressionCV(solver='liblinear',max_iter=1000,cv=5, verbose=1, n_jobs=-1,scoring='f1')\n",
    "logreg_tomek.fit(X_train, y_train)\n",
    "\n",
    "y_hat_train = logreg_tomek.predict(X_train)\n",
    "y_hat_test = logreg_tomek.predict(X_test)"
   ]
  },
  {
   "cell_type": "code",
   "execution_count": 327,
   "metadata": {},
   "outputs": [
    {
     "data": {
      "text/html": [
       "<div>\n",
       "<style scoped>\n",
       "    .dataframe tbody tr th:only-of-type {\n",
       "        vertical-align: middle;\n",
       "    }\n",
       "\n",
       "    .dataframe tbody tr th {\n",
       "        vertical-align: top;\n",
       "    }\n",
       "\n",
       "    .dataframe thead th {\n",
       "        text-align: right;\n",
       "    }\n",
       "</style>\n",
       "<table border=\"1\" class=\"dataframe\">\n",
       "  <thead>\n",
       "    <tr style=\"text-align: right;\">\n",
       "      <th></th>\n",
       "      <th>train_acc</th>\n",
       "      <th>train_prec</th>\n",
       "      <th>train_rec</th>\n",
       "      <th>train_f1</th>\n",
       "      <th>train_auc</th>\n",
       "      <th>test_acc</th>\n",
       "      <th>test_prec</th>\n",
       "      <th>test_rec</th>\n",
       "      <th>test_f1</th>\n",
       "      <th>test_auc</th>\n",
       "    </tr>\n",
       "  </thead>\n",
       "  <tbody>\n",
       "    <tr>\n",
       "      <th>logreg_df_base</th>\n",
       "      <td>0.808370</td>\n",
       "      <td>0.661889</td>\n",
       "      <td>0.562321</td>\n",
       "      <td>0.608056</td>\n",
       "      <td>0.729552</td>\n",
       "      <td>0.797274</td>\n",
       "      <td>0.655080</td>\n",
       "      <td>0.517970</td>\n",
       "      <td>0.578512</td>\n",
       "      <td>0.708908</td>\n",
       "    </tr>\n",
       "    <tr>\n",
       "      <th>logreg_base</th>\n",
       "      <td>0.811399</td>\n",
       "      <td>0.679533</td>\n",
       "      <td>0.542264</td>\n",
       "      <td>0.603187</td>\n",
       "      <td>0.725186</td>\n",
       "      <td>0.800681</td>\n",
       "      <td>0.662234</td>\n",
       "      <td>0.526427</td>\n",
       "      <td>0.586572</td>\n",
       "      <td>0.713912</td>\n",
       "    </tr>\n",
       "    <tr>\n",
       "      <th>logreg_weight</th>\n",
       "      <td>0.759894</td>\n",
       "      <td>0.530019</td>\n",
       "      <td>0.809456</td>\n",
       "      <td>0.640590</td>\n",
       "      <td>0.775770</td>\n",
       "      <td>0.748438</td>\n",
       "      <td>0.520833</td>\n",
       "      <td>0.792812</td>\n",
       "      <td>0.628667</td>\n",
       "      <td>0.762477</td>\n",
       "    </tr>\n",
       "    <tr>\n",
       "      <th>logreg_up</th>\n",
       "      <td>0.773230</td>\n",
       "      <td>0.756215</td>\n",
       "      <td>0.806435</td>\n",
       "      <td>0.780518</td>\n",
       "      <td>0.773230</td>\n",
       "      <td>0.751278</td>\n",
       "      <td>0.524407</td>\n",
       "      <td>0.794926</td>\n",
       "      <td>0.631933</td>\n",
       "      <td>0.765087</td>\n",
       "    </tr>\n",
       "    <tr>\n",
       "      <th>logreg_down</th>\n",
       "      <td>0.773281</td>\n",
       "      <td>0.755869</td>\n",
       "      <td>0.807307</td>\n",
       "      <td>0.780741</td>\n",
       "      <td>0.773281</td>\n",
       "      <td>0.742192</td>\n",
       "      <td>0.513032</td>\n",
       "      <td>0.790698</td>\n",
       "      <td>0.622296</td>\n",
       "      <td>0.757538</td>\n",
       "    </tr>\n",
       "    <tr>\n",
       "      <th>logreg_smote</th>\n",
       "      <td>0.780960</td>\n",
       "      <td>0.758547</td>\n",
       "      <td>0.824303</td>\n",
       "      <td>0.790059</td>\n",
       "      <td>0.780960</td>\n",
       "      <td>0.752413</td>\n",
       "      <td>0.519391</td>\n",
       "      <td>0.808190</td>\n",
       "      <td>0.632378</td>\n",
       "      <td>0.770325</td>\n",
       "    </tr>\n",
       "    <tr>\n",
       "      <th>logreg_tomek</th>\n",
       "      <td>0.820941</td>\n",
       "      <td>0.714169</td>\n",
       "      <td>0.624199</td>\n",
       "      <td>0.666160</td>\n",
       "      <td>0.762014</td>\n",
       "      <td>0.797274</td>\n",
       "      <td>0.612159</td>\n",
       "      <td>0.629310</td>\n",
       "      <td>0.620616</td>\n",
       "      <td>0.743337</td>\n",
       "    </tr>\n",
       "  </tbody>\n",
       "</table>\n",
       "</div>"
      ],
      "text/plain": [
       "                train_acc  train_prec  train_rec  train_f1  train_auc  \\\n",
       "logreg_df_base   0.808370    0.661889   0.562321  0.608056   0.729552   \n",
       "logreg_base      0.811399    0.679533   0.542264  0.603187   0.725186   \n",
       "logreg_weight    0.759894    0.530019   0.809456  0.640590   0.775770   \n",
       "logreg_up        0.773230    0.756215   0.806435  0.780518   0.773230   \n",
       "logreg_down      0.773281    0.755869   0.807307  0.780741   0.773281   \n",
       "logreg_smote     0.780960    0.758547   0.824303  0.790059   0.780960   \n",
       "logreg_tomek     0.820941    0.714169   0.624199  0.666160   0.762014   \n",
       "\n",
       "                test_acc  test_prec  test_rec   test_f1  test_auc  \n",
       "logreg_df_base  0.797274   0.655080  0.517970  0.578512  0.708908  \n",
       "logreg_base     0.800681   0.662234  0.526427  0.586572  0.713912  \n",
       "logreg_weight   0.748438   0.520833  0.792812  0.628667  0.762477  \n",
       "logreg_up       0.751278   0.524407  0.794926  0.631933  0.765087  \n",
       "logreg_down     0.742192   0.513032  0.790698  0.622296  0.757538  \n",
       "logreg_smote    0.752413   0.519391  0.808190  0.632378  0.770325  \n",
       "logreg_tomek    0.797274   0.612159  0.629310  0.620616  0.743337  "
      ]
     },
     "execution_count": 327,
     "metadata": {},
     "output_type": "execute_result"
    }
   ],
   "source": [
    "update_tracker(logreg_tomek,'logreg_tomek',y_train, y_hat_train, y_test, y_hat_test)\n",
    "tracker.head(10)"
   ]
  },
  {
   "cell_type": "markdown",
   "metadata": {},
   "source": [
    "# Logreg Base, lasso"
   ]
  },
  {
   "cell_type": "code",
   "execution_count": 328,
   "metadata": {},
   "outputs": [],
   "source": [
    "y = df['Churn']\n",
    "X = df.drop(['Churn'],axis=1)"
   ]
  },
  {
   "cell_type": "code",
   "execution_count": 329,
   "metadata": {},
   "outputs": [],
   "source": [
    "X_train, X_test, y_train, y_test = train_test_split(X,y,test_size=.25,random_state=0)"
   ]
  },
  {
   "cell_type": "code",
   "execution_count": 330,
   "metadata": {},
   "outputs": [
    {
     "name": "stderr",
     "output_type": "stream",
     "text": [
      "[Parallel(n_jobs=-1)]: Using backend LokyBackend with 8 concurrent workers.\n",
      "[Parallel(n_jobs=-1)]: Done   2 out of   5 | elapsed:    1.4s remaining:    2.1s\n",
      "[Parallel(n_jobs=-1)]: Done   5 out of   5 | elapsed:    2.0s finished\n"
     ]
    }
   ],
   "source": [
    "logreg_base_lasso = LogisticRegressionCV(solver='liblinear', penalty='l1', max_iter=1000, cv=5, verbose=1, n_jobs=-1,scoring='f1')\n",
    "logreg_base_lasso.fit(X_train, y_train)\n",
    "\n",
    "y_hat_train = logreg_base_lasso.predict(X_train)\n",
    "y_hat_test = logreg_base_lasso.predict(X_test)"
   ]
  },
  {
   "cell_type": "code",
   "execution_count": 331,
   "metadata": {},
   "outputs": [
    {
     "data": {
      "text/html": [
       "<div>\n",
       "<style scoped>\n",
       "    .dataframe tbody tr th:only-of-type {\n",
       "        vertical-align: middle;\n",
       "    }\n",
       "\n",
       "    .dataframe tbody tr th {\n",
       "        vertical-align: top;\n",
       "    }\n",
       "\n",
       "    .dataframe thead th {\n",
       "        text-align: right;\n",
       "    }\n",
       "</style>\n",
       "<table border=\"1\" class=\"dataframe\">\n",
       "  <thead>\n",
       "    <tr style=\"text-align: right;\">\n",
       "      <th></th>\n",
       "      <th>train_acc</th>\n",
       "      <th>train_prec</th>\n",
       "      <th>train_rec</th>\n",
       "      <th>train_f1</th>\n",
       "      <th>train_auc</th>\n",
       "      <th>test_acc</th>\n",
       "      <th>test_prec</th>\n",
       "      <th>test_rec</th>\n",
       "      <th>test_f1</th>\n",
       "      <th>test_auc</th>\n",
       "    </tr>\n",
       "  </thead>\n",
       "  <tbody>\n",
       "    <tr>\n",
       "      <th>logreg_df_base</th>\n",
       "      <td>0.808370</td>\n",
       "      <td>0.661889</td>\n",
       "      <td>0.562321</td>\n",
       "      <td>0.608056</td>\n",
       "      <td>0.729552</td>\n",
       "      <td>0.797274</td>\n",
       "      <td>0.655080</td>\n",
       "      <td>0.517970</td>\n",
       "      <td>0.578512</td>\n",
       "      <td>0.708908</td>\n",
       "    </tr>\n",
       "    <tr>\n",
       "      <th>logreg_base</th>\n",
       "      <td>0.811399</td>\n",
       "      <td>0.679533</td>\n",
       "      <td>0.542264</td>\n",
       "      <td>0.603187</td>\n",
       "      <td>0.725186</td>\n",
       "      <td>0.800681</td>\n",
       "      <td>0.662234</td>\n",
       "      <td>0.526427</td>\n",
       "      <td>0.586572</td>\n",
       "      <td>0.713912</td>\n",
       "    </tr>\n",
       "    <tr>\n",
       "      <th>logreg_weight</th>\n",
       "      <td>0.759894</td>\n",
       "      <td>0.530019</td>\n",
       "      <td>0.809456</td>\n",
       "      <td>0.640590</td>\n",
       "      <td>0.775770</td>\n",
       "      <td>0.748438</td>\n",
       "      <td>0.520833</td>\n",
       "      <td>0.792812</td>\n",
       "      <td>0.628667</td>\n",
       "      <td>0.762477</td>\n",
       "    </tr>\n",
       "    <tr>\n",
       "      <th>logreg_up</th>\n",
       "      <td>0.773230</td>\n",
       "      <td>0.756215</td>\n",
       "      <td>0.806435</td>\n",
       "      <td>0.780518</td>\n",
       "      <td>0.773230</td>\n",
       "      <td>0.751278</td>\n",
       "      <td>0.524407</td>\n",
       "      <td>0.794926</td>\n",
       "      <td>0.631933</td>\n",
       "      <td>0.765087</td>\n",
       "    </tr>\n",
       "    <tr>\n",
       "      <th>logreg_down</th>\n",
       "      <td>0.773281</td>\n",
       "      <td>0.755869</td>\n",
       "      <td>0.807307</td>\n",
       "      <td>0.780741</td>\n",
       "      <td>0.773281</td>\n",
       "      <td>0.742192</td>\n",
       "      <td>0.513032</td>\n",
       "      <td>0.790698</td>\n",
       "      <td>0.622296</td>\n",
       "      <td>0.757538</td>\n",
       "    </tr>\n",
       "    <tr>\n",
       "      <th>logreg_smote</th>\n",
       "      <td>0.780960</td>\n",
       "      <td>0.758547</td>\n",
       "      <td>0.824303</td>\n",
       "      <td>0.790059</td>\n",
       "      <td>0.780960</td>\n",
       "      <td>0.752413</td>\n",
       "      <td>0.519391</td>\n",
       "      <td>0.808190</td>\n",
       "      <td>0.632378</td>\n",
       "      <td>0.770325</td>\n",
       "    </tr>\n",
       "    <tr>\n",
       "      <th>logreg_tomek</th>\n",
       "      <td>0.820941</td>\n",
       "      <td>0.714169</td>\n",
       "      <td>0.624199</td>\n",
       "      <td>0.666160</td>\n",
       "      <td>0.762014</td>\n",
       "      <td>0.797274</td>\n",
       "      <td>0.612159</td>\n",
       "      <td>0.629310</td>\n",
       "      <td>0.620616</td>\n",
       "      <td>0.743337</td>\n",
       "    </tr>\n",
       "    <tr>\n",
       "      <th>logreg_base_lasso</th>\n",
       "      <td>0.811210</td>\n",
       "      <td>0.678924</td>\n",
       "      <td>0.542264</td>\n",
       "      <td>0.602947</td>\n",
       "      <td>0.725057</td>\n",
       "      <td>0.801249</td>\n",
       "      <td>0.663130</td>\n",
       "      <td>0.528541</td>\n",
       "      <td>0.588235</td>\n",
       "      <td>0.714969</td>\n",
       "    </tr>\n",
       "  </tbody>\n",
       "</table>\n",
       "</div>"
      ],
      "text/plain": [
       "                   train_acc  train_prec  train_rec  train_f1  train_auc  \\\n",
       "logreg_df_base      0.808370    0.661889   0.562321  0.608056   0.729552   \n",
       "logreg_base         0.811399    0.679533   0.542264  0.603187   0.725186   \n",
       "logreg_weight       0.759894    0.530019   0.809456  0.640590   0.775770   \n",
       "logreg_up           0.773230    0.756215   0.806435  0.780518   0.773230   \n",
       "logreg_down         0.773281    0.755869   0.807307  0.780741   0.773281   \n",
       "logreg_smote        0.780960    0.758547   0.824303  0.790059   0.780960   \n",
       "logreg_tomek        0.820941    0.714169   0.624199  0.666160   0.762014   \n",
       "logreg_base_lasso   0.811210    0.678924   0.542264  0.602947   0.725057   \n",
       "\n",
       "                   test_acc  test_prec  test_rec   test_f1  test_auc  \n",
       "logreg_df_base     0.797274   0.655080  0.517970  0.578512  0.708908  \n",
       "logreg_base        0.800681   0.662234  0.526427  0.586572  0.713912  \n",
       "logreg_weight      0.748438   0.520833  0.792812  0.628667  0.762477  \n",
       "logreg_up          0.751278   0.524407  0.794926  0.631933  0.765087  \n",
       "logreg_down        0.742192   0.513032  0.790698  0.622296  0.757538  \n",
       "logreg_smote       0.752413   0.519391  0.808190  0.632378  0.770325  \n",
       "logreg_tomek       0.797274   0.612159  0.629310  0.620616  0.743337  \n",
       "logreg_base_lasso  0.801249   0.663130  0.528541  0.588235  0.714969  "
      ]
     },
     "execution_count": 331,
     "metadata": {},
     "output_type": "execute_result"
    }
   ],
   "source": [
    "update_tracker(logreg_base_lasso,'logreg_base_lasso',y_train, y_hat_train, y_test, y_hat_test)\n",
    "tracker.head(10)"
   ]
  },
  {
   "cell_type": "markdown",
   "metadata": {},
   "source": [
    "# Logreg Class Weight, lasso"
   ]
  },
  {
   "cell_type": "code",
   "execution_count": 332,
   "metadata": {},
   "outputs": [],
   "source": [
    "y = df['Churn']\n",
    "X = df.drop(['Churn'],axis=1)"
   ]
  },
  {
   "cell_type": "code",
   "execution_count": 333,
   "metadata": {},
   "outputs": [],
   "source": [
    "X_train, X_test, y_train, y_test = train_test_split(X,y,test_size=.25,random_state=0)"
   ]
  },
  {
   "cell_type": "code",
   "execution_count": 334,
   "metadata": {},
   "outputs": [
    {
     "name": "stderr",
     "output_type": "stream",
     "text": [
      "[Parallel(n_jobs=-1)]: Using backend LokyBackend with 8 concurrent workers.\n",
      "[Parallel(n_jobs=-1)]: Done   2 out of   5 | elapsed:    2.9s remaining:    4.3s\n",
      "[Parallel(n_jobs=-1)]: Done   5 out of   5 | elapsed:    8.4s finished\n"
     ]
    }
   ],
   "source": [
    "logreg_weight_lasso = LogisticRegressionCV(solver='liblinear', penalty='l1', class_weight='balanced', max_iter=1000, cv=5, verbose=1, n_jobs=-1,scoring='f1')\n",
    "logreg_weight_lasso.fit(X_train, y_train)\n",
    "\n",
    "y_hat_train = logreg_weight_lasso.predict(X_train)\n",
    "y_hat_test = logreg_weight_lasso.predict(X_test)"
   ]
  },
  {
   "cell_type": "code",
   "execution_count": 335,
   "metadata": {},
   "outputs": [
    {
     "data": {
      "text/html": [
       "<div>\n",
       "<style scoped>\n",
       "    .dataframe tbody tr th:only-of-type {\n",
       "        vertical-align: middle;\n",
       "    }\n",
       "\n",
       "    .dataframe tbody tr th {\n",
       "        vertical-align: top;\n",
       "    }\n",
       "\n",
       "    .dataframe thead th {\n",
       "        text-align: right;\n",
       "    }\n",
       "</style>\n",
       "<table border=\"1\" class=\"dataframe\">\n",
       "  <thead>\n",
       "    <tr style=\"text-align: right;\">\n",
       "      <th></th>\n",
       "      <th>train_acc</th>\n",
       "      <th>train_prec</th>\n",
       "      <th>train_rec</th>\n",
       "      <th>train_f1</th>\n",
       "      <th>train_auc</th>\n",
       "      <th>test_acc</th>\n",
       "      <th>test_prec</th>\n",
       "      <th>test_rec</th>\n",
       "      <th>test_f1</th>\n",
       "      <th>test_auc</th>\n",
       "    </tr>\n",
       "  </thead>\n",
       "  <tbody>\n",
       "    <tr>\n",
       "      <th>logreg_df_base</th>\n",
       "      <td>0.808370</td>\n",
       "      <td>0.661889</td>\n",
       "      <td>0.562321</td>\n",
       "      <td>0.608056</td>\n",
       "      <td>0.729552</td>\n",
       "      <td>0.797274</td>\n",
       "      <td>0.655080</td>\n",
       "      <td>0.517970</td>\n",
       "      <td>0.578512</td>\n",
       "      <td>0.708908</td>\n",
       "    </tr>\n",
       "    <tr>\n",
       "      <th>logreg_base</th>\n",
       "      <td>0.811399</td>\n",
       "      <td>0.679533</td>\n",
       "      <td>0.542264</td>\n",
       "      <td>0.603187</td>\n",
       "      <td>0.725186</td>\n",
       "      <td>0.800681</td>\n",
       "      <td>0.662234</td>\n",
       "      <td>0.526427</td>\n",
       "      <td>0.586572</td>\n",
       "      <td>0.713912</td>\n",
       "    </tr>\n",
       "    <tr>\n",
       "      <th>logreg_weight</th>\n",
       "      <td>0.759894</td>\n",
       "      <td>0.530019</td>\n",
       "      <td>0.809456</td>\n",
       "      <td>0.640590</td>\n",
       "      <td>0.775770</td>\n",
       "      <td>0.748438</td>\n",
       "      <td>0.520833</td>\n",
       "      <td>0.792812</td>\n",
       "      <td>0.628667</td>\n",
       "      <td>0.762477</td>\n",
       "    </tr>\n",
       "    <tr>\n",
       "      <th>logreg_up</th>\n",
       "      <td>0.773230</td>\n",
       "      <td>0.756215</td>\n",
       "      <td>0.806435</td>\n",
       "      <td>0.780518</td>\n",
       "      <td>0.773230</td>\n",
       "      <td>0.751278</td>\n",
       "      <td>0.524407</td>\n",
       "      <td>0.794926</td>\n",
       "      <td>0.631933</td>\n",
       "      <td>0.765087</td>\n",
       "    </tr>\n",
       "    <tr>\n",
       "      <th>logreg_down</th>\n",
       "      <td>0.773281</td>\n",
       "      <td>0.755869</td>\n",
       "      <td>0.807307</td>\n",
       "      <td>0.780741</td>\n",
       "      <td>0.773281</td>\n",
       "      <td>0.742192</td>\n",
       "      <td>0.513032</td>\n",
       "      <td>0.790698</td>\n",
       "      <td>0.622296</td>\n",
       "      <td>0.757538</td>\n",
       "    </tr>\n",
       "    <tr>\n",
       "      <th>logreg_smote</th>\n",
       "      <td>0.780960</td>\n",
       "      <td>0.758547</td>\n",
       "      <td>0.824303</td>\n",
       "      <td>0.790059</td>\n",
       "      <td>0.780960</td>\n",
       "      <td>0.752413</td>\n",
       "      <td>0.519391</td>\n",
       "      <td>0.808190</td>\n",
       "      <td>0.632378</td>\n",
       "      <td>0.770325</td>\n",
       "    </tr>\n",
       "    <tr>\n",
       "      <th>logreg_tomek</th>\n",
       "      <td>0.820941</td>\n",
       "      <td>0.714169</td>\n",
       "      <td>0.624199</td>\n",
       "      <td>0.666160</td>\n",
       "      <td>0.762014</td>\n",
       "      <td>0.797274</td>\n",
       "      <td>0.612159</td>\n",
       "      <td>0.629310</td>\n",
       "      <td>0.620616</td>\n",
       "      <td>0.743337</td>\n",
       "    </tr>\n",
       "    <tr>\n",
       "      <th>logreg_base_lasso</th>\n",
       "      <td>0.811210</td>\n",
       "      <td>0.678924</td>\n",
       "      <td>0.542264</td>\n",
       "      <td>0.602947</td>\n",
       "      <td>0.725057</td>\n",
       "      <td>0.801249</td>\n",
       "      <td>0.663130</td>\n",
       "      <td>0.528541</td>\n",
       "      <td>0.588235</td>\n",
       "      <td>0.714969</td>\n",
       "    </tr>\n",
       "    <tr>\n",
       "      <th>logreg_weight_lasso</th>\n",
       "      <td>0.759137</td>\n",
       "      <td>0.529081</td>\n",
       "      <td>0.808023</td>\n",
       "      <td>0.639456</td>\n",
       "      <td>0.774797</td>\n",
       "      <td>0.747303</td>\n",
       "      <td>0.519553</td>\n",
       "      <td>0.786469</td>\n",
       "      <td>0.625736</td>\n",
       "      <td>0.759694</td>\n",
       "    </tr>\n",
       "  </tbody>\n",
       "</table>\n",
       "</div>"
      ],
      "text/plain": [
       "                     train_acc  train_prec  train_rec  train_f1  train_auc  \\\n",
       "logreg_df_base        0.808370    0.661889   0.562321  0.608056   0.729552   \n",
       "logreg_base           0.811399    0.679533   0.542264  0.603187   0.725186   \n",
       "logreg_weight         0.759894    0.530019   0.809456  0.640590   0.775770   \n",
       "logreg_up             0.773230    0.756215   0.806435  0.780518   0.773230   \n",
       "logreg_down           0.773281    0.755869   0.807307  0.780741   0.773281   \n",
       "logreg_smote          0.780960    0.758547   0.824303  0.790059   0.780960   \n",
       "logreg_tomek          0.820941    0.714169   0.624199  0.666160   0.762014   \n",
       "logreg_base_lasso     0.811210    0.678924   0.542264  0.602947   0.725057   \n",
       "logreg_weight_lasso   0.759137    0.529081   0.808023  0.639456   0.774797   \n",
       "\n",
       "                     test_acc  test_prec  test_rec   test_f1  test_auc  \n",
       "logreg_df_base       0.797274   0.655080  0.517970  0.578512  0.708908  \n",
       "logreg_base          0.800681   0.662234  0.526427  0.586572  0.713912  \n",
       "logreg_weight        0.748438   0.520833  0.792812  0.628667  0.762477  \n",
       "logreg_up            0.751278   0.524407  0.794926  0.631933  0.765087  \n",
       "logreg_down          0.742192   0.513032  0.790698  0.622296  0.757538  \n",
       "logreg_smote         0.752413   0.519391  0.808190  0.632378  0.770325  \n",
       "logreg_tomek         0.797274   0.612159  0.629310  0.620616  0.743337  \n",
       "logreg_base_lasso    0.801249   0.663130  0.528541  0.588235  0.714969  \n",
       "logreg_weight_lasso  0.747303   0.519553  0.786469  0.625736  0.759694  "
      ]
     },
     "execution_count": 335,
     "metadata": {},
     "output_type": "execute_result"
    }
   ],
   "source": [
    "update_tracker(logreg_weight_lasso,'logreg_weight_lasso',y_train, y_hat_train, y_test, y_hat_test)\n",
    "tracker.head(10)"
   ]
  },
  {
   "cell_type": "markdown",
   "metadata": {},
   "source": [
    "# Logreg Upsampled, Lasso"
   ]
  },
  {
   "cell_type": "code",
   "execution_count": 336,
   "metadata": {},
   "outputs": [],
   "source": [
    "y = df['Churn']\n",
    "X = df.drop(['Churn'],axis=1)\n",
    "\n",
    "X_train, X_test, y_train, y_test = train_test_split(X,y,test_size=.25,random_state=0)"
   ]
  },
  {
   "cell_type": "code",
   "execution_count": 337,
   "metadata": {},
   "outputs": [],
   "source": [
    "training = pd.concat([X_train, y_train],axis=1)"
   ]
  },
  {
   "cell_type": "code",
   "execution_count": 338,
   "metadata": {},
   "outputs": [],
   "source": [
    "churn = training[training['Churn']==1]\n",
    "no_churn = training[training['Churn']==0]"
   ]
  },
  {
   "cell_type": "code",
   "execution_count": 339,
   "metadata": {},
   "outputs": [],
   "source": [
    "# upsample minority\n",
    "churn_upsampled = resample(churn,\n",
    "                          replace=True, # sample with replacement\n",
    "                          n_samples=len(no_churn), # match number in majority class\n",
    "                          random_state=23) # reproducible results"
   ]
  },
  {
   "cell_type": "code",
   "execution_count": 340,
   "metadata": {},
   "outputs": [],
   "source": [
    "# combine majority and upsampled minority\n",
    "upsampled = pd.concat([no_churn, churn_upsampled])"
   ]
  },
  {
   "cell_type": "code",
   "execution_count": 341,
   "metadata": {},
   "outputs": [],
   "source": [
    "y_train = upsampled['Churn']\n",
    "X_train = upsampled.drop(['Churn'],axis=1)"
   ]
  },
  {
   "cell_type": "code",
   "execution_count": 342,
   "metadata": {},
   "outputs": [
    {
     "name": "stderr",
     "output_type": "stream",
     "text": [
      "[Parallel(n_jobs=-1)]: Using backend LokyBackend with 8 concurrent workers.\n",
      "[Parallel(n_jobs=-1)]: Done   2 out of   5 | elapsed:    2.1s remaining:    3.2s\n",
      "[Parallel(n_jobs=-1)]: Done   5 out of   5 | elapsed:    8.0s finished\n"
     ]
    }
   ],
   "source": [
    "logreg_up_lasso = LogisticRegressionCV(solver='liblinear',penalty='l1',max_iter=1000,cv=5, verbose=1, n_jobs=-1,scoring='f1')\n",
    "logreg_up_lasso.fit(X_train, y_train)\n",
    "\n",
    "y_hat_train = logreg_up_lasso.predict(X_train)\n",
    "y_hat_test = logreg_up_lasso.predict(X_test)"
   ]
  },
  {
   "cell_type": "code",
   "execution_count": 343,
   "metadata": {},
   "outputs": [
    {
     "data": {
      "text/html": [
       "<div>\n",
       "<style scoped>\n",
       "    .dataframe tbody tr th:only-of-type {\n",
       "        vertical-align: middle;\n",
       "    }\n",
       "\n",
       "    .dataframe tbody tr th {\n",
       "        vertical-align: top;\n",
       "    }\n",
       "\n",
       "    .dataframe thead th {\n",
       "        text-align: right;\n",
       "    }\n",
       "</style>\n",
       "<table border=\"1\" class=\"dataframe\">\n",
       "  <thead>\n",
       "    <tr style=\"text-align: right;\">\n",
       "      <th></th>\n",
       "      <th>train_acc</th>\n",
       "      <th>train_prec</th>\n",
       "      <th>train_rec</th>\n",
       "      <th>train_f1</th>\n",
       "      <th>train_auc</th>\n",
       "      <th>test_acc</th>\n",
       "      <th>test_prec</th>\n",
       "      <th>test_rec</th>\n",
       "      <th>test_f1</th>\n",
       "      <th>test_auc</th>\n",
       "    </tr>\n",
       "  </thead>\n",
       "  <tbody>\n",
       "    <tr>\n",
       "      <th>logreg_df_base</th>\n",
       "      <td>0.808370</td>\n",
       "      <td>0.661889</td>\n",
       "      <td>0.562321</td>\n",
       "      <td>0.608056</td>\n",
       "      <td>0.729552</td>\n",
       "      <td>0.797274</td>\n",
       "      <td>0.655080</td>\n",
       "      <td>0.517970</td>\n",
       "      <td>0.578512</td>\n",
       "      <td>0.708908</td>\n",
       "    </tr>\n",
       "    <tr>\n",
       "      <th>logreg_base</th>\n",
       "      <td>0.811399</td>\n",
       "      <td>0.679533</td>\n",
       "      <td>0.542264</td>\n",
       "      <td>0.603187</td>\n",
       "      <td>0.725186</td>\n",
       "      <td>0.800681</td>\n",
       "      <td>0.662234</td>\n",
       "      <td>0.526427</td>\n",
       "      <td>0.586572</td>\n",
       "      <td>0.713912</td>\n",
       "    </tr>\n",
       "    <tr>\n",
       "      <th>logreg_weight</th>\n",
       "      <td>0.759894</td>\n",
       "      <td>0.530019</td>\n",
       "      <td>0.809456</td>\n",
       "      <td>0.640590</td>\n",
       "      <td>0.775770</td>\n",
       "      <td>0.748438</td>\n",
       "      <td>0.520833</td>\n",
       "      <td>0.792812</td>\n",
       "      <td>0.628667</td>\n",
       "      <td>0.762477</td>\n",
       "    </tr>\n",
       "    <tr>\n",
       "      <th>logreg_up</th>\n",
       "      <td>0.773230</td>\n",
       "      <td>0.756215</td>\n",
       "      <td>0.806435</td>\n",
       "      <td>0.780518</td>\n",
       "      <td>0.773230</td>\n",
       "      <td>0.751278</td>\n",
       "      <td>0.524407</td>\n",
       "      <td>0.794926</td>\n",
       "      <td>0.631933</td>\n",
       "      <td>0.765087</td>\n",
       "    </tr>\n",
       "    <tr>\n",
       "      <th>logreg_down</th>\n",
       "      <td>0.773281</td>\n",
       "      <td>0.755869</td>\n",
       "      <td>0.807307</td>\n",
       "      <td>0.780741</td>\n",
       "      <td>0.773281</td>\n",
       "      <td>0.742192</td>\n",
       "      <td>0.513032</td>\n",
       "      <td>0.790698</td>\n",
       "      <td>0.622296</td>\n",
       "      <td>0.757538</td>\n",
       "    </tr>\n",
       "    <tr>\n",
       "      <th>logreg_smote</th>\n",
       "      <td>0.780960</td>\n",
       "      <td>0.758547</td>\n",
       "      <td>0.824303</td>\n",
       "      <td>0.790059</td>\n",
       "      <td>0.780960</td>\n",
       "      <td>0.752413</td>\n",
       "      <td>0.519391</td>\n",
       "      <td>0.808190</td>\n",
       "      <td>0.632378</td>\n",
       "      <td>0.770325</td>\n",
       "    </tr>\n",
       "    <tr>\n",
       "      <th>logreg_tomek</th>\n",
       "      <td>0.820941</td>\n",
       "      <td>0.714169</td>\n",
       "      <td>0.624199</td>\n",
       "      <td>0.666160</td>\n",
       "      <td>0.762014</td>\n",
       "      <td>0.797274</td>\n",
       "      <td>0.612159</td>\n",
       "      <td>0.629310</td>\n",
       "      <td>0.620616</td>\n",
       "      <td>0.743337</td>\n",
       "    </tr>\n",
       "    <tr>\n",
       "      <th>logreg_base_lasso</th>\n",
       "      <td>0.811210</td>\n",
       "      <td>0.678924</td>\n",
       "      <td>0.542264</td>\n",
       "      <td>0.602947</td>\n",
       "      <td>0.725057</td>\n",
       "      <td>0.801249</td>\n",
       "      <td>0.663130</td>\n",
       "      <td>0.528541</td>\n",
       "      <td>0.588235</td>\n",
       "      <td>0.714969</td>\n",
       "    </tr>\n",
       "    <tr>\n",
       "      <th>logreg_weight_lasso</th>\n",
       "      <td>0.759137</td>\n",
       "      <td>0.529081</td>\n",
       "      <td>0.808023</td>\n",
       "      <td>0.639456</td>\n",
       "      <td>0.774797</td>\n",
       "      <td>0.747303</td>\n",
       "      <td>0.519553</td>\n",
       "      <td>0.786469</td>\n",
       "      <td>0.625736</td>\n",
       "      <td>0.759694</td>\n",
       "    </tr>\n",
       "    <tr>\n",
       "      <th>logreg_up_lasso</th>\n",
       "      <td>0.772844</td>\n",
       "      <td>0.755915</td>\n",
       "      <td>0.805920</td>\n",
       "      <td>0.780117</td>\n",
       "      <td>0.772844</td>\n",
       "      <td>0.746735</td>\n",
       "      <td>0.518776</td>\n",
       "      <td>0.788584</td>\n",
       "      <td>0.625839</td>\n",
       "      <td>0.759975</td>\n",
       "    </tr>\n",
       "  </tbody>\n",
       "</table>\n",
       "</div>"
      ],
      "text/plain": [
       "                     train_acc  train_prec  train_rec  train_f1  train_auc  \\\n",
       "logreg_df_base        0.808370    0.661889   0.562321  0.608056   0.729552   \n",
       "logreg_base           0.811399    0.679533   0.542264  0.603187   0.725186   \n",
       "logreg_weight         0.759894    0.530019   0.809456  0.640590   0.775770   \n",
       "logreg_up             0.773230    0.756215   0.806435  0.780518   0.773230   \n",
       "logreg_down           0.773281    0.755869   0.807307  0.780741   0.773281   \n",
       "logreg_smote          0.780960    0.758547   0.824303  0.790059   0.780960   \n",
       "logreg_tomek          0.820941    0.714169   0.624199  0.666160   0.762014   \n",
       "logreg_base_lasso     0.811210    0.678924   0.542264  0.602947   0.725057   \n",
       "logreg_weight_lasso   0.759137    0.529081   0.808023  0.639456   0.774797   \n",
       "logreg_up_lasso       0.772844    0.755915   0.805920  0.780117   0.772844   \n",
       "\n",
       "                     test_acc  test_prec  test_rec   test_f1  test_auc  \n",
       "logreg_df_base       0.797274   0.655080  0.517970  0.578512  0.708908  \n",
       "logreg_base          0.800681   0.662234  0.526427  0.586572  0.713912  \n",
       "logreg_weight        0.748438   0.520833  0.792812  0.628667  0.762477  \n",
       "logreg_up            0.751278   0.524407  0.794926  0.631933  0.765087  \n",
       "logreg_down          0.742192   0.513032  0.790698  0.622296  0.757538  \n",
       "logreg_smote         0.752413   0.519391  0.808190  0.632378  0.770325  \n",
       "logreg_tomek         0.797274   0.612159  0.629310  0.620616  0.743337  \n",
       "logreg_base_lasso    0.801249   0.663130  0.528541  0.588235  0.714969  \n",
       "logreg_weight_lasso  0.747303   0.519553  0.786469  0.625736  0.759694  \n",
       "logreg_up_lasso      0.746735   0.518776  0.788584  0.625839  0.759975  "
      ]
     },
     "execution_count": 343,
     "metadata": {},
     "output_type": "execute_result"
    }
   ],
   "source": [
    "update_tracker(logreg_up_lasso,'logreg_up_lasso',y_train, y_hat_train, y_test, y_hat_test)\n",
    "tracker.head(10)"
   ]
  },
  {
   "cell_type": "markdown",
   "metadata": {},
   "source": [
    "# Logreg Down, Lasso"
   ]
  },
  {
   "cell_type": "code",
   "execution_count": 344,
   "metadata": {},
   "outputs": [],
   "source": [
    "y = df['Churn']\n",
    "X = df.drop(['Churn'],axis=1)\n",
    "\n",
    "X_train, X_test, y_train, y_test = train_test_split(X,y,test_size=.25,random_state=0)"
   ]
  },
  {
   "cell_type": "code",
   "execution_count": 345,
   "metadata": {},
   "outputs": [],
   "source": [
    "training = pd.concat([X_train, y_train],axis=1)"
   ]
  },
  {
   "cell_type": "code",
   "execution_count": 346,
   "metadata": {},
   "outputs": [],
   "source": [
    "churn = training[training['Churn']==1]\n",
    "no_churn = training[training['Churn']==0]"
   ]
  },
  {
   "cell_type": "code",
   "execution_count": 347,
   "metadata": {},
   "outputs": [],
   "source": [
    "# upsample minority\n",
    "no_churn_downsampled = resample(no_churn,\n",
    "                          replace=True, # sample with replacement\n",
    "                          n_samples=len(churn), # match number in minority class\n",
    "                          random_state=23) # reproducible results"
   ]
  },
  {
   "cell_type": "code",
   "execution_count": 348,
   "metadata": {},
   "outputs": [],
   "source": [
    "# combine minority and downsampled majority\n",
    "downsampled = pd.concat([churn, no_churn_downsampled])"
   ]
  },
  {
   "cell_type": "code",
   "execution_count": 349,
   "metadata": {},
   "outputs": [],
   "source": [
    "y_train = downsampled['Churn']\n",
    "X_train = downsampled.drop(['Churn'],axis=1)"
   ]
  },
  {
   "cell_type": "code",
   "execution_count": 350,
   "metadata": {},
   "outputs": [
    {
     "name": "stderr",
     "output_type": "stream",
     "text": [
      "[Parallel(n_jobs=-1)]: Using backend LokyBackend with 8 concurrent workers.\n",
      "[Parallel(n_jobs=-1)]: Done   2 out of   5 | elapsed:    1.5s remaining:    2.3s\n",
      "[Parallel(n_jobs=-1)]: Done   5 out of   5 | elapsed:    3.8s finished\n"
     ]
    }
   ],
   "source": [
    "logreg_down_lasso = LogisticRegressionCV(solver='liblinear',penalty='l1',max_iter=1000,cv=5, verbose=1, n_jobs=-1,scoring='f1')\n",
    "logreg_down_lasso.fit(X_train, y_train)\n",
    "\n",
    "y_hat_train = logreg_down_lasso.predict(X_train)\n",
    "y_hat_test = logreg_down_lasso.predict(X_test)"
   ]
  },
  {
   "cell_type": "code",
   "execution_count": 351,
   "metadata": {},
   "outputs": [
    {
     "data": {
      "text/html": [
       "<div>\n",
       "<style scoped>\n",
       "    .dataframe tbody tr th:only-of-type {\n",
       "        vertical-align: middle;\n",
       "    }\n",
       "\n",
       "    .dataframe tbody tr th {\n",
       "        vertical-align: top;\n",
       "    }\n",
       "\n",
       "    .dataframe thead th {\n",
       "        text-align: right;\n",
       "    }\n",
       "</style>\n",
       "<table border=\"1\" class=\"dataframe\">\n",
       "  <thead>\n",
       "    <tr style=\"text-align: right;\">\n",
       "      <th></th>\n",
       "      <th>train_acc</th>\n",
       "      <th>train_prec</th>\n",
       "      <th>train_rec</th>\n",
       "      <th>train_f1</th>\n",
       "      <th>train_auc</th>\n",
       "      <th>test_acc</th>\n",
       "      <th>test_prec</th>\n",
       "      <th>test_rec</th>\n",
       "      <th>test_f1</th>\n",
       "      <th>test_auc</th>\n",
       "    </tr>\n",
       "  </thead>\n",
       "  <tbody>\n",
       "    <tr>\n",
       "      <th>logreg_df_base</th>\n",
       "      <td>0.808370</td>\n",
       "      <td>0.661889</td>\n",
       "      <td>0.562321</td>\n",
       "      <td>0.608056</td>\n",
       "      <td>0.729552</td>\n",
       "      <td>0.797274</td>\n",
       "      <td>0.655080</td>\n",
       "      <td>0.517970</td>\n",
       "      <td>0.578512</td>\n",
       "      <td>0.708908</td>\n",
       "    </tr>\n",
       "    <tr>\n",
       "      <th>logreg_base</th>\n",
       "      <td>0.811399</td>\n",
       "      <td>0.679533</td>\n",
       "      <td>0.542264</td>\n",
       "      <td>0.603187</td>\n",
       "      <td>0.725186</td>\n",
       "      <td>0.800681</td>\n",
       "      <td>0.662234</td>\n",
       "      <td>0.526427</td>\n",
       "      <td>0.586572</td>\n",
       "      <td>0.713912</td>\n",
       "    </tr>\n",
       "    <tr>\n",
       "      <th>logreg_weight</th>\n",
       "      <td>0.759894</td>\n",
       "      <td>0.530019</td>\n",
       "      <td>0.809456</td>\n",
       "      <td>0.640590</td>\n",
       "      <td>0.775770</td>\n",
       "      <td>0.748438</td>\n",
       "      <td>0.520833</td>\n",
       "      <td>0.792812</td>\n",
       "      <td>0.628667</td>\n",
       "      <td>0.762477</td>\n",
       "    </tr>\n",
       "    <tr>\n",
       "      <th>logreg_up</th>\n",
       "      <td>0.773230</td>\n",
       "      <td>0.756215</td>\n",
       "      <td>0.806435</td>\n",
       "      <td>0.780518</td>\n",
       "      <td>0.773230</td>\n",
       "      <td>0.751278</td>\n",
       "      <td>0.524407</td>\n",
       "      <td>0.794926</td>\n",
       "      <td>0.631933</td>\n",
       "      <td>0.765087</td>\n",
       "    </tr>\n",
       "    <tr>\n",
       "      <th>logreg_down</th>\n",
       "      <td>0.773281</td>\n",
       "      <td>0.755869</td>\n",
       "      <td>0.807307</td>\n",
       "      <td>0.780741</td>\n",
       "      <td>0.773281</td>\n",
       "      <td>0.742192</td>\n",
       "      <td>0.513032</td>\n",
       "      <td>0.790698</td>\n",
       "      <td>0.622296</td>\n",
       "      <td>0.757538</td>\n",
       "    </tr>\n",
       "    <tr>\n",
       "      <th>logreg_smote</th>\n",
       "      <td>0.780960</td>\n",
       "      <td>0.758547</td>\n",
       "      <td>0.824303</td>\n",
       "      <td>0.790059</td>\n",
       "      <td>0.780960</td>\n",
       "      <td>0.752413</td>\n",
       "      <td>0.519391</td>\n",
       "      <td>0.808190</td>\n",
       "      <td>0.632378</td>\n",
       "      <td>0.770325</td>\n",
       "    </tr>\n",
       "    <tr>\n",
       "      <th>logreg_tomek</th>\n",
       "      <td>0.820941</td>\n",
       "      <td>0.714169</td>\n",
       "      <td>0.624199</td>\n",
       "      <td>0.666160</td>\n",
       "      <td>0.762014</td>\n",
       "      <td>0.797274</td>\n",
       "      <td>0.612159</td>\n",
       "      <td>0.629310</td>\n",
       "      <td>0.620616</td>\n",
       "      <td>0.743337</td>\n",
       "    </tr>\n",
       "    <tr>\n",
       "      <th>logreg_base_lasso</th>\n",
       "      <td>0.811210</td>\n",
       "      <td>0.678924</td>\n",
       "      <td>0.542264</td>\n",
       "      <td>0.602947</td>\n",
       "      <td>0.725057</td>\n",
       "      <td>0.801249</td>\n",
       "      <td>0.663130</td>\n",
       "      <td>0.528541</td>\n",
       "      <td>0.588235</td>\n",
       "      <td>0.714969</td>\n",
       "    </tr>\n",
       "    <tr>\n",
       "      <th>logreg_weight_lasso</th>\n",
       "      <td>0.759137</td>\n",
       "      <td>0.529081</td>\n",
       "      <td>0.808023</td>\n",
       "      <td>0.639456</td>\n",
       "      <td>0.774797</td>\n",
       "      <td>0.747303</td>\n",
       "      <td>0.519553</td>\n",
       "      <td>0.786469</td>\n",
       "      <td>0.625736</td>\n",
       "      <td>0.759694</td>\n",
       "    </tr>\n",
       "    <tr>\n",
       "      <th>logreg_up_lasso</th>\n",
       "      <td>0.772844</td>\n",
       "      <td>0.755915</td>\n",
       "      <td>0.805920</td>\n",
       "      <td>0.780117</td>\n",
       "      <td>0.772844</td>\n",
       "      <td>0.746735</td>\n",
       "      <td>0.518776</td>\n",
       "      <td>0.788584</td>\n",
       "      <td>0.625839</td>\n",
       "      <td>0.759975</td>\n",
       "    </tr>\n",
       "  </tbody>\n",
       "</table>\n",
       "</div>"
      ],
      "text/plain": [
       "                     train_acc  train_prec  train_rec  train_f1  train_auc  \\\n",
       "logreg_df_base        0.808370    0.661889   0.562321  0.608056   0.729552   \n",
       "logreg_base           0.811399    0.679533   0.542264  0.603187   0.725186   \n",
       "logreg_weight         0.759894    0.530019   0.809456  0.640590   0.775770   \n",
       "logreg_up             0.773230    0.756215   0.806435  0.780518   0.773230   \n",
       "logreg_down           0.773281    0.755869   0.807307  0.780741   0.773281   \n",
       "logreg_smote          0.780960    0.758547   0.824303  0.790059   0.780960   \n",
       "logreg_tomek          0.820941    0.714169   0.624199  0.666160   0.762014   \n",
       "logreg_base_lasso     0.811210    0.678924   0.542264  0.602947   0.725057   \n",
       "logreg_weight_lasso   0.759137    0.529081   0.808023  0.639456   0.774797   \n",
       "logreg_up_lasso       0.772844    0.755915   0.805920  0.780117   0.772844   \n",
       "\n",
       "                     test_acc  test_prec  test_rec   test_f1  test_auc  \n",
       "logreg_df_base       0.797274   0.655080  0.517970  0.578512  0.708908  \n",
       "logreg_base          0.800681   0.662234  0.526427  0.586572  0.713912  \n",
       "logreg_weight        0.748438   0.520833  0.792812  0.628667  0.762477  \n",
       "logreg_up            0.751278   0.524407  0.794926  0.631933  0.765087  \n",
       "logreg_down          0.742192   0.513032  0.790698  0.622296  0.757538  \n",
       "logreg_smote         0.752413   0.519391  0.808190  0.632378  0.770325  \n",
       "logreg_tomek         0.797274   0.612159  0.629310  0.620616  0.743337  \n",
       "logreg_base_lasso    0.801249   0.663130  0.528541  0.588235  0.714969  \n",
       "logreg_weight_lasso  0.747303   0.519553  0.786469  0.625736  0.759694  \n",
       "logreg_up_lasso      0.746735   0.518776  0.788584  0.625839  0.759975  "
      ]
     },
     "execution_count": 351,
     "metadata": {},
     "output_type": "execute_result"
    }
   ],
   "source": [
    "update_tracker(logreg_down_lasso,'logreg_down_lasso',y_train, y_hat_train, y_test, y_hat_test)\n",
    "tracker.head(10)"
   ]
  },
  {
   "cell_type": "markdown",
   "metadata": {},
   "source": [
    "# Logreg SMOTE, lasso"
   ]
  },
  {
   "cell_type": "code",
   "execution_count": 352,
   "metadata": {},
   "outputs": [],
   "source": [
    "y = df['Churn']\n",
    "X = df.drop(['Churn'],axis=1)"
   ]
  },
  {
   "cell_type": "code",
   "execution_count": 353,
   "metadata": {},
   "outputs": [],
   "source": [
    "# setting up testing and training sets\n",
    "X_train, X_test, y_train, y_test = train_test_split(X, y, test_size=0.25, random_state=23)"
   ]
  },
  {
   "cell_type": "code",
   "execution_count": 354,
   "metadata": {},
   "outputs": [],
   "source": [
    "sm = SMOTE(random_state=23)\n",
    "X_train, y_train = sm.fit_sample(X_train, y_train)"
   ]
  },
  {
   "cell_type": "code",
   "execution_count": 355,
   "metadata": {},
   "outputs": [
    {
     "name": "stderr",
     "output_type": "stream",
     "text": [
      "[Parallel(n_jobs=-1)]: Using backend LokyBackend with 8 concurrent workers.\n",
      "[Parallel(n_jobs=-1)]: Done   2 out of   5 | elapsed:    3.3s remaining:    5.0s\n",
      "[Parallel(n_jobs=-1)]: Done   5 out of   5 | elapsed:    8.7s finished\n"
     ]
    }
   ],
   "source": [
    "logreg_smote_lasso = LogisticRegressionCV(solver='liblinear',penalty='l1',max_iter=1000,cv=5, verbose=1, n_jobs=-1,scoring='f1')\n",
    "logreg_smote_lasso.fit(X_train, y_train)\n",
    "\n",
    "y_hat_train = logreg_smote_lasso.predict(X_train)\n",
    "y_hat_test = logreg_smote_lasso.predict(X_test)"
   ]
  },
  {
   "cell_type": "code",
   "execution_count": 356,
   "metadata": {},
   "outputs": [
    {
     "data": {
      "text/html": [
       "<div>\n",
       "<style scoped>\n",
       "    .dataframe tbody tr th:only-of-type {\n",
       "        vertical-align: middle;\n",
       "    }\n",
       "\n",
       "    .dataframe tbody tr th {\n",
       "        vertical-align: top;\n",
       "    }\n",
       "\n",
       "    .dataframe thead th {\n",
       "        text-align: right;\n",
       "    }\n",
       "</style>\n",
       "<table border=\"1\" class=\"dataframe\">\n",
       "  <thead>\n",
       "    <tr style=\"text-align: right;\">\n",
       "      <th></th>\n",
       "      <th>train_acc</th>\n",
       "      <th>train_prec</th>\n",
       "      <th>train_rec</th>\n",
       "      <th>train_f1</th>\n",
       "      <th>train_auc</th>\n",
       "      <th>test_acc</th>\n",
       "      <th>test_prec</th>\n",
       "      <th>test_rec</th>\n",
       "      <th>test_f1</th>\n",
       "      <th>test_auc</th>\n",
       "    </tr>\n",
       "  </thead>\n",
       "  <tbody>\n",
       "    <tr>\n",
       "      <th>logreg_df_base</th>\n",
       "      <td>0.808370</td>\n",
       "      <td>0.661889</td>\n",
       "      <td>0.562321</td>\n",
       "      <td>0.608056</td>\n",
       "      <td>0.729552</td>\n",
       "      <td>0.797274</td>\n",
       "      <td>0.655080</td>\n",
       "      <td>0.517970</td>\n",
       "      <td>0.578512</td>\n",
       "      <td>0.708908</td>\n",
       "    </tr>\n",
       "    <tr>\n",
       "      <th>logreg_base</th>\n",
       "      <td>0.811399</td>\n",
       "      <td>0.679533</td>\n",
       "      <td>0.542264</td>\n",
       "      <td>0.603187</td>\n",
       "      <td>0.725186</td>\n",
       "      <td>0.800681</td>\n",
       "      <td>0.662234</td>\n",
       "      <td>0.526427</td>\n",
       "      <td>0.586572</td>\n",
       "      <td>0.713912</td>\n",
       "    </tr>\n",
       "    <tr>\n",
       "      <th>logreg_weight</th>\n",
       "      <td>0.759894</td>\n",
       "      <td>0.530019</td>\n",
       "      <td>0.809456</td>\n",
       "      <td>0.640590</td>\n",
       "      <td>0.775770</td>\n",
       "      <td>0.748438</td>\n",
       "      <td>0.520833</td>\n",
       "      <td>0.792812</td>\n",
       "      <td>0.628667</td>\n",
       "      <td>0.762477</td>\n",
       "    </tr>\n",
       "    <tr>\n",
       "      <th>logreg_up</th>\n",
       "      <td>0.773230</td>\n",
       "      <td>0.756215</td>\n",
       "      <td>0.806435</td>\n",
       "      <td>0.780518</td>\n",
       "      <td>0.773230</td>\n",
       "      <td>0.751278</td>\n",
       "      <td>0.524407</td>\n",
       "      <td>0.794926</td>\n",
       "      <td>0.631933</td>\n",
       "      <td>0.765087</td>\n",
       "    </tr>\n",
       "    <tr>\n",
       "      <th>logreg_down</th>\n",
       "      <td>0.773281</td>\n",
       "      <td>0.755869</td>\n",
       "      <td>0.807307</td>\n",
       "      <td>0.780741</td>\n",
       "      <td>0.773281</td>\n",
       "      <td>0.742192</td>\n",
       "      <td>0.513032</td>\n",
       "      <td>0.790698</td>\n",
       "      <td>0.622296</td>\n",
       "      <td>0.757538</td>\n",
       "    </tr>\n",
       "    <tr>\n",
       "      <th>logreg_smote</th>\n",
       "      <td>0.780960</td>\n",
       "      <td>0.758547</td>\n",
       "      <td>0.824303</td>\n",
       "      <td>0.790059</td>\n",
       "      <td>0.780960</td>\n",
       "      <td>0.752413</td>\n",
       "      <td>0.519391</td>\n",
       "      <td>0.808190</td>\n",
       "      <td>0.632378</td>\n",
       "      <td>0.770325</td>\n",
       "    </tr>\n",
       "    <tr>\n",
       "      <th>logreg_tomek</th>\n",
       "      <td>0.820941</td>\n",
       "      <td>0.714169</td>\n",
       "      <td>0.624199</td>\n",
       "      <td>0.666160</td>\n",
       "      <td>0.762014</td>\n",
       "      <td>0.797274</td>\n",
       "      <td>0.612159</td>\n",
       "      <td>0.629310</td>\n",
       "      <td>0.620616</td>\n",
       "      <td>0.743337</td>\n",
       "    </tr>\n",
       "    <tr>\n",
       "      <th>logreg_base_lasso</th>\n",
       "      <td>0.811210</td>\n",
       "      <td>0.678924</td>\n",
       "      <td>0.542264</td>\n",
       "      <td>0.602947</td>\n",
       "      <td>0.725057</td>\n",
       "      <td>0.801249</td>\n",
       "      <td>0.663130</td>\n",
       "      <td>0.528541</td>\n",
       "      <td>0.588235</td>\n",
       "      <td>0.714969</td>\n",
       "    </tr>\n",
       "    <tr>\n",
       "      <th>logreg_weight_lasso</th>\n",
       "      <td>0.759137</td>\n",
       "      <td>0.529081</td>\n",
       "      <td>0.808023</td>\n",
       "      <td>0.639456</td>\n",
       "      <td>0.774797</td>\n",
       "      <td>0.747303</td>\n",
       "      <td>0.519553</td>\n",
       "      <td>0.786469</td>\n",
       "      <td>0.625736</td>\n",
       "      <td>0.759694</td>\n",
       "    </tr>\n",
       "    <tr>\n",
       "      <th>logreg_up_lasso</th>\n",
       "      <td>0.772844</td>\n",
       "      <td>0.755915</td>\n",
       "      <td>0.805920</td>\n",
       "      <td>0.780117</td>\n",
       "      <td>0.772844</td>\n",
       "      <td>0.746735</td>\n",
       "      <td>0.518776</td>\n",
       "      <td>0.788584</td>\n",
       "      <td>0.625839</td>\n",
       "      <td>0.759975</td>\n",
       "    </tr>\n",
       "    <tr>\n",
       "      <th>logreg_down_lasso</th>\n",
       "      <td>0.772923</td>\n",
       "      <td>0.755020</td>\n",
       "      <td>0.808023</td>\n",
       "      <td>0.780623</td>\n",
       "      <td>0.772923</td>\n",
       "      <td>0.742192</td>\n",
       "      <td>0.513032</td>\n",
       "      <td>0.790698</td>\n",
       "      <td>0.622296</td>\n",
       "      <td>0.757538</td>\n",
       "    </tr>\n",
       "    <tr>\n",
       "      <th>logreg_smote_lasso</th>\n",
       "      <td>0.781863</td>\n",
       "      <td>0.760057</td>\n",
       "      <td>0.823787</td>\n",
       "      <td>0.790640</td>\n",
       "      <td>0.781863</td>\n",
       "      <td>0.750142</td>\n",
       "      <td>0.516575</td>\n",
       "      <td>0.806034</td>\n",
       "      <td>0.629630</td>\n",
       "      <td>0.768090</td>\n",
       "    </tr>\n",
       "  </tbody>\n",
       "</table>\n",
       "</div>"
      ],
      "text/plain": [
       "                     train_acc  train_prec  train_rec  train_f1  train_auc  \\\n",
       "logreg_df_base        0.808370    0.661889   0.562321  0.608056   0.729552   \n",
       "logreg_base           0.811399    0.679533   0.542264  0.603187   0.725186   \n",
       "logreg_weight         0.759894    0.530019   0.809456  0.640590   0.775770   \n",
       "logreg_up             0.773230    0.756215   0.806435  0.780518   0.773230   \n",
       "logreg_down           0.773281    0.755869   0.807307  0.780741   0.773281   \n",
       "logreg_smote          0.780960    0.758547   0.824303  0.790059   0.780960   \n",
       "logreg_tomek          0.820941    0.714169   0.624199  0.666160   0.762014   \n",
       "logreg_base_lasso     0.811210    0.678924   0.542264  0.602947   0.725057   \n",
       "logreg_weight_lasso   0.759137    0.529081   0.808023  0.639456   0.774797   \n",
       "logreg_up_lasso       0.772844    0.755915   0.805920  0.780117   0.772844   \n",
       "logreg_down_lasso     0.772923    0.755020   0.808023  0.780623   0.772923   \n",
       "logreg_smote_lasso    0.781863    0.760057   0.823787  0.790640   0.781863   \n",
       "\n",
       "                     test_acc  test_prec  test_rec   test_f1  test_auc  \n",
       "logreg_df_base       0.797274   0.655080  0.517970  0.578512  0.708908  \n",
       "logreg_base          0.800681   0.662234  0.526427  0.586572  0.713912  \n",
       "logreg_weight        0.748438   0.520833  0.792812  0.628667  0.762477  \n",
       "logreg_up            0.751278   0.524407  0.794926  0.631933  0.765087  \n",
       "logreg_down          0.742192   0.513032  0.790698  0.622296  0.757538  \n",
       "logreg_smote         0.752413   0.519391  0.808190  0.632378  0.770325  \n",
       "logreg_tomek         0.797274   0.612159  0.629310  0.620616  0.743337  \n",
       "logreg_base_lasso    0.801249   0.663130  0.528541  0.588235  0.714969  \n",
       "logreg_weight_lasso  0.747303   0.519553  0.786469  0.625736  0.759694  \n",
       "logreg_up_lasso      0.746735   0.518776  0.788584  0.625839  0.759975  \n",
       "logreg_down_lasso    0.742192   0.513032  0.790698  0.622296  0.757538  \n",
       "logreg_smote_lasso   0.750142   0.516575  0.806034  0.629630  0.768090  "
      ]
     },
     "execution_count": 356,
     "metadata": {},
     "output_type": "execute_result"
    }
   ],
   "source": [
    "update_tracker(logreg_smote_lasso,'logreg_smote_lasso',y_train, y_hat_train, y_test, y_hat_test)\n",
    "tracker.head(20)"
   ]
  },
  {
   "cell_type": "markdown",
   "metadata": {},
   "source": [
    "# Logreg TOMEK, lasso"
   ]
  },
  {
   "cell_type": "code",
   "execution_count": 357,
   "metadata": {},
   "outputs": [],
   "source": [
    "y = df['Churn']\n",
    "X = df.drop(['Churn'],axis=1)"
   ]
  },
  {
   "cell_type": "code",
   "execution_count": 358,
   "metadata": {},
   "outputs": [],
   "source": [
    "# setting up testing and training sets\n",
    "X_train, X_test, y_train, y_test = train_test_split(X, y, test_size=0.25, random_state=23)"
   ]
  },
  {
   "cell_type": "code",
   "execution_count": 359,
   "metadata": {},
   "outputs": [
    {
     "name": "stdout",
     "output_type": "stream",
     "text": [
      "Resampled dataset shape Counter({0.0: 3504, 1.0: 1405})\n"
     ]
    }
   ],
   "source": [
    "tl = TomekLinks()\n",
    "X_train, y_train = tl.fit_resample(X_train, y_train)\n",
    "print('Resampled dataset shape %s' % Counter(y_train))"
   ]
  },
  {
   "cell_type": "code",
   "execution_count": 360,
   "metadata": {},
   "outputs": [
    {
     "name": "stderr",
     "output_type": "stream",
     "text": [
      "[Parallel(n_jobs=-1)]: Using backend LokyBackend with 8 concurrent workers.\n",
      "[Parallel(n_jobs=-1)]: Done   2 out of   5 | elapsed:    1.5s remaining:    2.2s\n",
      "[Parallel(n_jobs=-1)]: Done   5 out of   5 | elapsed:    3.3s finished\n"
     ]
    }
   ],
   "source": [
    "logreg_tomek_lasso = LogisticRegressionCV(solver='liblinear',penalty='l1',max_iter=1000,cv=5, verbose=1, n_jobs=-1,scoring='f1')\n",
    "logreg_tomek_lasso.fit(X_train, y_train)\n",
    "\n",
    "y_hat_train = logreg_tomek_lasso.predict(X_train)\n",
    "y_hat_test = logreg_tomek_lasso.predict(X_test)"
   ]
  },
  {
   "cell_type": "code",
   "execution_count": 361,
   "metadata": {},
   "outputs": [
    {
     "data": {
      "text/html": [
       "<div>\n",
       "<style scoped>\n",
       "    .dataframe tbody tr th:only-of-type {\n",
       "        vertical-align: middle;\n",
       "    }\n",
       "\n",
       "    .dataframe tbody tr th {\n",
       "        vertical-align: top;\n",
       "    }\n",
       "\n",
       "    .dataframe thead th {\n",
       "        text-align: right;\n",
       "    }\n",
       "</style>\n",
       "<table border=\"1\" class=\"dataframe\">\n",
       "  <thead>\n",
       "    <tr style=\"text-align: right;\">\n",
       "      <th></th>\n",
       "      <th>train_acc</th>\n",
       "      <th>train_prec</th>\n",
       "      <th>train_rec</th>\n",
       "      <th>train_f1</th>\n",
       "      <th>train_auc</th>\n",
       "      <th>test_acc</th>\n",
       "      <th>test_prec</th>\n",
       "      <th>test_rec</th>\n",
       "      <th>test_f1</th>\n",
       "      <th>test_auc</th>\n",
       "    </tr>\n",
       "  </thead>\n",
       "  <tbody>\n",
       "    <tr>\n",
       "      <th>logreg_df_base</th>\n",
       "      <td>0.808370</td>\n",
       "      <td>0.661889</td>\n",
       "      <td>0.562321</td>\n",
       "      <td>0.608056</td>\n",
       "      <td>0.729552</td>\n",
       "      <td>0.797274</td>\n",
       "      <td>0.655080</td>\n",
       "      <td>0.517970</td>\n",
       "      <td>0.578512</td>\n",
       "      <td>0.708908</td>\n",
       "    </tr>\n",
       "    <tr>\n",
       "      <th>logreg_base</th>\n",
       "      <td>0.811399</td>\n",
       "      <td>0.679533</td>\n",
       "      <td>0.542264</td>\n",
       "      <td>0.603187</td>\n",
       "      <td>0.725186</td>\n",
       "      <td>0.800681</td>\n",
       "      <td>0.662234</td>\n",
       "      <td>0.526427</td>\n",
       "      <td>0.586572</td>\n",
       "      <td>0.713912</td>\n",
       "    </tr>\n",
       "    <tr>\n",
       "      <th>logreg_weight</th>\n",
       "      <td>0.759894</td>\n",
       "      <td>0.530019</td>\n",
       "      <td>0.809456</td>\n",
       "      <td>0.640590</td>\n",
       "      <td>0.775770</td>\n",
       "      <td>0.748438</td>\n",
       "      <td>0.520833</td>\n",
       "      <td>0.792812</td>\n",
       "      <td>0.628667</td>\n",
       "      <td>0.762477</td>\n",
       "    </tr>\n",
       "    <tr>\n",
       "      <th>logreg_up</th>\n",
       "      <td>0.773230</td>\n",
       "      <td>0.756215</td>\n",
       "      <td>0.806435</td>\n",
       "      <td>0.780518</td>\n",
       "      <td>0.773230</td>\n",
       "      <td>0.751278</td>\n",
       "      <td>0.524407</td>\n",
       "      <td>0.794926</td>\n",
       "      <td>0.631933</td>\n",
       "      <td>0.765087</td>\n",
       "    </tr>\n",
       "    <tr>\n",
       "      <th>logreg_down</th>\n",
       "      <td>0.773281</td>\n",
       "      <td>0.755869</td>\n",
       "      <td>0.807307</td>\n",
       "      <td>0.780741</td>\n",
       "      <td>0.773281</td>\n",
       "      <td>0.742192</td>\n",
       "      <td>0.513032</td>\n",
       "      <td>0.790698</td>\n",
       "      <td>0.622296</td>\n",
       "      <td>0.757538</td>\n",
       "    </tr>\n",
       "    <tr>\n",
       "      <th>logreg_smote</th>\n",
       "      <td>0.780960</td>\n",
       "      <td>0.758547</td>\n",
       "      <td>0.824303</td>\n",
       "      <td>0.790059</td>\n",
       "      <td>0.780960</td>\n",
       "      <td>0.752413</td>\n",
       "      <td>0.519391</td>\n",
       "      <td>0.808190</td>\n",
       "      <td>0.632378</td>\n",
       "      <td>0.770325</td>\n",
       "    </tr>\n",
       "    <tr>\n",
       "      <th>logreg_tomek</th>\n",
       "      <td>0.820941</td>\n",
       "      <td>0.714169</td>\n",
       "      <td>0.624199</td>\n",
       "      <td>0.666160</td>\n",
       "      <td>0.762014</td>\n",
       "      <td>0.797274</td>\n",
       "      <td>0.612159</td>\n",
       "      <td>0.629310</td>\n",
       "      <td>0.620616</td>\n",
       "      <td>0.743337</td>\n",
       "    </tr>\n",
       "    <tr>\n",
       "      <th>logreg_base_lasso</th>\n",
       "      <td>0.811210</td>\n",
       "      <td>0.678924</td>\n",
       "      <td>0.542264</td>\n",
       "      <td>0.602947</td>\n",
       "      <td>0.725057</td>\n",
       "      <td>0.801249</td>\n",
       "      <td>0.663130</td>\n",
       "      <td>0.528541</td>\n",
       "      <td>0.588235</td>\n",
       "      <td>0.714969</td>\n",
       "    </tr>\n",
       "    <tr>\n",
       "      <th>logreg_weight_lasso</th>\n",
       "      <td>0.759137</td>\n",
       "      <td>0.529081</td>\n",
       "      <td>0.808023</td>\n",
       "      <td>0.639456</td>\n",
       "      <td>0.774797</td>\n",
       "      <td>0.747303</td>\n",
       "      <td>0.519553</td>\n",
       "      <td>0.786469</td>\n",
       "      <td>0.625736</td>\n",
       "      <td>0.759694</td>\n",
       "    </tr>\n",
       "    <tr>\n",
       "      <th>logreg_up_lasso</th>\n",
       "      <td>0.772844</td>\n",
       "      <td>0.755915</td>\n",
       "      <td>0.805920</td>\n",
       "      <td>0.780117</td>\n",
       "      <td>0.772844</td>\n",
       "      <td>0.746735</td>\n",
       "      <td>0.518776</td>\n",
       "      <td>0.788584</td>\n",
       "      <td>0.625839</td>\n",
       "      <td>0.759975</td>\n",
       "    </tr>\n",
       "    <tr>\n",
       "      <th>logreg_down_lasso</th>\n",
       "      <td>0.772923</td>\n",
       "      <td>0.755020</td>\n",
       "      <td>0.808023</td>\n",
       "      <td>0.780623</td>\n",
       "      <td>0.772923</td>\n",
       "      <td>0.742192</td>\n",
       "      <td>0.513032</td>\n",
       "      <td>0.790698</td>\n",
       "      <td>0.622296</td>\n",
       "      <td>0.757538</td>\n",
       "    </tr>\n",
       "    <tr>\n",
       "      <th>logreg_smote_lasso</th>\n",
       "      <td>0.781863</td>\n",
       "      <td>0.760057</td>\n",
       "      <td>0.823787</td>\n",
       "      <td>0.790640</td>\n",
       "      <td>0.781863</td>\n",
       "      <td>0.750142</td>\n",
       "      <td>0.516575</td>\n",
       "      <td>0.806034</td>\n",
       "      <td>0.629630</td>\n",
       "      <td>0.768090</td>\n",
       "    </tr>\n",
       "    <tr>\n",
       "      <th>logreg_tomek_lasso</th>\n",
       "      <td>0.821756</td>\n",
       "      <td>0.716503</td>\n",
       "      <td>0.624199</td>\n",
       "      <td>0.667174</td>\n",
       "      <td>0.762585</td>\n",
       "      <td>0.797842</td>\n",
       "      <td>0.613445</td>\n",
       "      <td>0.629310</td>\n",
       "      <td>0.621277</td>\n",
       "      <td>0.743722</td>\n",
       "    </tr>\n",
       "  </tbody>\n",
       "</table>\n",
       "</div>"
      ],
      "text/plain": [
       "                     train_acc  train_prec  train_rec  train_f1  train_auc  \\\n",
       "logreg_df_base        0.808370    0.661889   0.562321  0.608056   0.729552   \n",
       "logreg_base           0.811399    0.679533   0.542264  0.603187   0.725186   \n",
       "logreg_weight         0.759894    0.530019   0.809456  0.640590   0.775770   \n",
       "logreg_up             0.773230    0.756215   0.806435  0.780518   0.773230   \n",
       "logreg_down           0.773281    0.755869   0.807307  0.780741   0.773281   \n",
       "logreg_smote          0.780960    0.758547   0.824303  0.790059   0.780960   \n",
       "logreg_tomek          0.820941    0.714169   0.624199  0.666160   0.762014   \n",
       "logreg_base_lasso     0.811210    0.678924   0.542264  0.602947   0.725057   \n",
       "logreg_weight_lasso   0.759137    0.529081   0.808023  0.639456   0.774797   \n",
       "logreg_up_lasso       0.772844    0.755915   0.805920  0.780117   0.772844   \n",
       "logreg_down_lasso     0.772923    0.755020   0.808023  0.780623   0.772923   \n",
       "logreg_smote_lasso    0.781863    0.760057   0.823787  0.790640   0.781863   \n",
       "logreg_tomek_lasso    0.821756    0.716503   0.624199  0.667174   0.762585   \n",
       "\n",
       "                     test_acc  test_prec  test_rec   test_f1  test_auc  \n",
       "logreg_df_base       0.797274   0.655080  0.517970  0.578512  0.708908  \n",
       "logreg_base          0.800681   0.662234  0.526427  0.586572  0.713912  \n",
       "logreg_weight        0.748438   0.520833  0.792812  0.628667  0.762477  \n",
       "logreg_up            0.751278   0.524407  0.794926  0.631933  0.765087  \n",
       "logreg_down          0.742192   0.513032  0.790698  0.622296  0.757538  \n",
       "logreg_smote         0.752413   0.519391  0.808190  0.632378  0.770325  \n",
       "logreg_tomek         0.797274   0.612159  0.629310  0.620616  0.743337  \n",
       "logreg_base_lasso    0.801249   0.663130  0.528541  0.588235  0.714969  \n",
       "logreg_weight_lasso  0.747303   0.519553  0.786469  0.625736  0.759694  \n",
       "logreg_up_lasso      0.746735   0.518776  0.788584  0.625839  0.759975  \n",
       "logreg_down_lasso    0.742192   0.513032  0.790698  0.622296  0.757538  \n",
       "logreg_smote_lasso   0.750142   0.516575  0.806034  0.629630  0.768090  \n",
       "logreg_tomek_lasso   0.797842   0.613445  0.629310  0.621277  0.743722  "
      ]
     },
     "execution_count": 361,
     "metadata": {},
     "output_type": "execute_result"
    }
   ],
   "source": [
    "update_tracker(logreg_tomek_lasso,'logreg_tomek_lasso',y_train, y_hat_train, y_test, y_hat_test)\n",
    "tracker.head(20)"
   ]
  },
  {
   "cell_type": "markdown",
   "metadata": {},
   "source": [
    "# Run Model on best features"
   ]
  },
  {
   "cell_type": "code",
   "execution_count": 362,
   "metadata": {},
   "outputs": [],
   "source": [
    "def get_best_features(model, features_df):\n",
    "    coef_df = pd.DataFrame(list(zip(features_df.columns, model.coef_[0])),columns = ['feature','coef_val'])\n",
    "#     coef_df = coef_df.sort_values(by='coef_val')\n",
    "#     low_5 = list(coef_df.head(5)['feature'])\n",
    "#     top_5 = list(coef_df.tail(5)['feature'])\n",
    "    \n",
    "    return coef_df"
   ]
  },
  {
   "cell_type": "code",
   "execution_count": 363,
   "metadata": {},
   "outputs": [],
   "source": [
    "holder = pd.DataFrame(columns = ['feature','coef_val'])\n",
    "\n",
    "for model in model_list:\n",
    "    coef_df = get_best_features(model, X)\n",
    "    holder = pd.concat([holder,coef_df])"
   ]
  },
  {
   "cell_type": "code",
   "execution_count": 364,
   "metadata": {},
   "outputs": [],
   "source": [
    "holder = holder.groupby(['feature'])['coef_val'].mean().reset_index().sort_values(by='coef_val')"
   ]
  },
  {
   "cell_type": "code",
   "execution_count": 365,
   "metadata": {},
   "outputs": [],
   "source": [
    "best_features = list(holder[abs(holder['coef_val']) > .15]['feature'])"
   ]
  },
  {
   "cell_type": "code",
   "execution_count": 366,
   "metadata": {},
   "outputs": [],
   "source": [
    "best_features.append('Churn')"
   ]
  },
  {
   "cell_type": "code",
   "execution_count": 367,
   "metadata": {},
   "outputs": [],
   "source": [
    "df1 = df[best_features].copy()"
   ]
  },
  {
   "cell_type": "code",
   "execution_count": 368,
   "metadata": {},
   "outputs": [],
   "source": [
    "y = df1['Churn']\n",
    "X = df1.drop(['Churn'],axis=1)\n",
    "\n",
    "X_train, X_test, y_train, y_test = train_test_split(X,y,test_size=.25,random_state=0)"
   ]
  },
  {
   "cell_type": "code",
   "execution_count": 369,
   "metadata": {},
   "outputs": [],
   "source": [
    "training = pd.concat([X_train, y_train],axis=1)"
   ]
  },
  {
   "cell_type": "code",
   "execution_count": 370,
   "metadata": {},
   "outputs": [],
   "source": [
    "churn = training[training['Churn']==1]\n",
    "no_churn = training[training['Churn']==0]"
   ]
  },
  {
   "cell_type": "code",
   "execution_count": 371,
   "metadata": {},
   "outputs": [],
   "source": [
    "# upsample minority\n",
    "churn_upsampled = resample(churn,\n",
    "                          replace=True, # sample with replacement\n",
    "                          n_samples=len(no_churn), # match number in majority class\n",
    "                          random_state=23) # reproducible results"
   ]
  },
  {
   "cell_type": "code",
   "execution_count": 372,
   "metadata": {},
   "outputs": [],
   "source": [
    "# combine majority and upsampled minority\n",
    "upsampled = pd.concat([no_churn, churn_upsampled])"
   ]
  },
  {
   "cell_type": "code",
   "execution_count": 373,
   "metadata": {},
   "outputs": [],
   "source": [
    "y_train = upsampled['Churn']\n",
    "X_train = upsampled.drop(['Churn'],axis=1)"
   ]
  },
  {
   "cell_type": "code",
   "execution_count": 374,
   "metadata": {
    "scrolled": true
   },
   "outputs": [
    {
     "name": "stderr",
     "output_type": "stream",
     "text": [
      "[Parallel(n_jobs=-1)]: Using backend LokyBackend with 8 concurrent workers.\n",
      "[Parallel(n_jobs=-1)]: Done   2 out of   5 | elapsed:    3.2s remaining:    4.8s\n",
      "[Parallel(n_jobs=-1)]: Done   5 out of   5 | elapsed:    7.9s finished\n"
     ]
    }
   ],
   "source": [
    "logreg_up_lasso_imp = LogisticRegressionCV(solver='liblinear',penalty='l1',max_iter=1000,cv=5, verbose=1, n_jobs=-1,scoring='f1')\n",
    "logreg_up_lasso_imp.fit(X_train, y_train)\n",
    "\n",
    "y_hat_train = logreg_up_lasso_imp.predict(X_train)\n",
    "y_hat_test = logreg_up_lasso_imp.predict(X_test)"
   ]
  },
  {
   "cell_type": "code",
   "execution_count": 375,
   "metadata": {
    "scrolled": true
   },
   "outputs": [
    {
     "data": {
      "text/html": [
       "<div>\n",
       "<style scoped>\n",
       "    .dataframe tbody tr th:only-of-type {\n",
       "        vertical-align: middle;\n",
       "    }\n",
       "\n",
       "    .dataframe tbody tr th {\n",
       "        vertical-align: top;\n",
       "    }\n",
       "\n",
       "    .dataframe thead th {\n",
       "        text-align: right;\n",
       "    }\n",
       "</style>\n",
       "<table border=\"1\" class=\"dataframe\">\n",
       "  <thead>\n",
       "    <tr style=\"text-align: right;\">\n",
       "      <th></th>\n",
       "      <th>train_acc</th>\n",
       "      <th>train_prec</th>\n",
       "      <th>train_rec</th>\n",
       "      <th>train_f1</th>\n",
       "      <th>train_auc</th>\n",
       "      <th>test_acc</th>\n",
       "      <th>test_prec</th>\n",
       "      <th>test_rec</th>\n",
       "      <th>test_f1</th>\n",
       "      <th>test_auc</th>\n",
       "    </tr>\n",
       "  </thead>\n",
       "  <tbody>\n",
       "    <tr>\n",
       "      <th>logreg_df_base</th>\n",
       "      <td>0.808370</td>\n",
       "      <td>0.661889</td>\n",
       "      <td>0.562321</td>\n",
       "      <td>0.608056</td>\n",
       "      <td>0.729552</td>\n",
       "      <td>0.797274</td>\n",
       "      <td>0.655080</td>\n",
       "      <td>0.517970</td>\n",
       "      <td>0.578512</td>\n",
       "      <td>0.708908</td>\n",
       "    </tr>\n",
       "    <tr>\n",
       "      <th>logreg_base</th>\n",
       "      <td>0.811399</td>\n",
       "      <td>0.679533</td>\n",
       "      <td>0.542264</td>\n",
       "      <td>0.603187</td>\n",
       "      <td>0.725186</td>\n",
       "      <td>0.800681</td>\n",
       "      <td>0.662234</td>\n",
       "      <td>0.526427</td>\n",
       "      <td>0.586572</td>\n",
       "      <td>0.713912</td>\n",
       "    </tr>\n",
       "    <tr>\n",
       "      <th>logreg_weight</th>\n",
       "      <td>0.759894</td>\n",
       "      <td>0.530019</td>\n",
       "      <td>0.809456</td>\n",
       "      <td>0.640590</td>\n",
       "      <td>0.775770</td>\n",
       "      <td>0.748438</td>\n",
       "      <td>0.520833</td>\n",
       "      <td>0.792812</td>\n",
       "      <td>0.628667</td>\n",
       "      <td>0.762477</td>\n",
       "    </tr>\n",
       "    <tr>\n",
       "      <th>logreg_up</th>\n",
       "      <td>0.773230</td>\n",
       "      <td>0.756215</td>\n",
       "      <td>0.806435</td>\n",
       "      <td>0.780518</td>\n",
       "      <td>0.773230</td>\n",
       "      <td>0.751278</td>\n",
       "      <td>0.524407</td>\n",
       "      <td>0.794926</td>\n",
       "      <td>0.631933</td>\n",
       "      <td>0.765087</td>\n",
       "    </tr>\n",
       "    <tr>\n",
       "      <th>logreg_down</th>\n",
       "      <td>0.773281</td>\n",
       "      <td>0.755869</td>\n",
       "      <td>0.807307</td>\n",
       "      <td>0.780741</td>\n",
       "      <td>0.773281</td>\n",
       "      <td>0.742192</td>\n",
       "      <td>0.513032</td>\n",
       "      <td>0.790698</td>\n",
       "      <td>0.622296</td>\n",
       "      <td>0.757538</td>\n",
       "    </tr>\n",
       "    <tr>\n",
       "      <th>logreg_smote</th>\n",
       "      <td>0.780960</td>\n",
       "      <td>0.758547</td>\n",
       "      <td>0.824303</td>\n",
       "      <td>0.790059</td>\n",
       "      <td>0.780960</td>\n",
       "      <td>0.752413</td>\n",
       "      <td>0.519391</td>\n",
       "      <td>0.808190</td>\n",
       "      <td>0.632378</td>\n",
       "      <td>0.770325</td>\n",
       "    </tr>\n",
       "    <tr>\n",
       "      <th>logreg_tomek</th>\n",
       "      <td>0.820941</td>\n",
       "      <td>0.714169</td>\n",
       "      <td>0.624199</td>\n",
       "      <td>0.666160</td>\n",
       "      <td>0.762014</td>\n",
       "      <td>0.797274</td>\n",
       "      <td>0.612159</td>\n",
       "      <td>0.629310</td>\n",
       "      <td>0.620616</td>\n",
       "      <td>0.743337</td>\n",
       "    </tr>\n",
       "    <tr>\n",
       "      <th>logreg_base_lasso</th>\n",
       "      <td>0.811210</td>\n",
       "      <td>0.678924</td>\n",
       "      <td>0.542264</td>\n",
       "      <td>0.602947</td>\n",
       "      <td>0.725057</td>\n",
       "      <td>0.801249</td>\n",
       "      <td>0.663130</td>\n",
       "      <td>0.528541</td>\n",
       "      <td>0.588235</td>\n",
       "      <td>0.714969</td>\n",
       "    </tr>\n",
       "    <tr>\n",
       "      <th>logreg_weight_lasso</th>\n",
       "      <td>0.759137</td>\n",
       "      <td>0.529081</td>\n",
       "      <td>0.808023</td>\n",
       "      <td>0.639456</td>\n",
       "      <td>0.774797</td>\n",
       "      <td>0.747303</td>\n",
       "      <td>0.519553</td>\n",
       "      <td>0.786469</td>\n",
       "      <td>0.625736</td>\n",
       "      <td>0.759694</td>\n",
       "    </tr>\n",
       "    <tr>\n",
       "      <th>logreg_up_lasso</th>\n",
       "      <td>0.772844</td>\n",
       "      <td>0.755915</td>\n",
       "      <td>0.805920</td>\n",
       "      <td>0.780117</td>\n",
       "      <td>0.772844</td>\n",
       "      <td>0.746735</td>\n",
       "      <td>0.518776</td>\n",
       "      <td>0.788584</td>\n",
       "      <td>0.625839</td>\n",
       "      <td>0.759975</td>\n",
       "    </tr>\n",
       "    <tr>\n",
       "      <th>logreg_down_lasso</th>\n",
       "      <td>0.772923</td>\n",
       "      <td>0.755020</td>\n",
       "      <td>0.808023</td>\n",
       "      <td>0.780623</td>\n",
       "      <td>0.772923</td>\n",
       "      <td>0.742192</td>\n",
       "      <td>0.513032</td>\n",
       "      <td>0.790698</td>\n",
       "      <td>0.622296</td>\n",
       "      <td>0.757538</td>\n",
       "    </tr>\n",
       "    <tr>\n",
       "      <th>logreg_smote_lasso</th>\n",
       "      <td>0.781863</td>\n",
       "      <td>0.760057</td>\n",
       "      <td>0.823787</td>\n",
       "      <td>0.790640</td>\n",
       "      <td>0.781863</td>\n",
       "      <td>0.750142</td>\n",
       "      <td>0.516575</td>\n",
       "      <td>0.806034</td>\n",
       "      <td>0.629630</td>\n",
       "      <td>0.768090</td>\n",
       "    </tr>\n",
       "    <tr>\n",
       "      <th>logreg_tomek_lasso</th>\n",
       "      <td>0.821756</td>\n",
       "      <td>0.716503</td>\n",
       "      <td>0.624199</td>\n",
       "      <td>0.667174</td>\n",
       "      <td>0.762585</td>\n",
       "      <td>0.797842</td>\n",
       "      <td>0.613445</td>\n",
       "      <td>0.629310</td>\n",
       "      <td>0.621277</td>\n",
       "      <td>0.743722</td>\n",
       "    </tr>\n",
       "    <tr>\n",
       "      <th>logreg_up_lasso_imp</th>\n",
       "      <td>0.771300</td>\n",
       "      <td>0.752637</td>\n",
       "      <td>0.808237</td>\n",
       "      <td>0.779446</td>\n",
       "      <td>0.771300</td>\n",
       "      <td>0.750142</td>\n",
       "      <td>0.522696</td>\n",
       "      <td>0.803383</td>\n",
       "      <td>0.633333</td>\n",
       "      <td>0.766986</td>\n",
       "    </tr>\n",
       "  </tbody>\n",
       "</table>\n",
       "</div>"
      ],
      "text/plain": [
       "                     train_acc  train_prec  train_rec  train_f1  train_auc  \\\n",
       "logreg_df_base        0.808370    0.661889   0.562321  0.608056   0.729552   \n",
       "logreg_base           0.811399    0.679533   0.542264  0.603187   0.725186   \n",
       "logreg_weight         0.759894    0.530019   0.809456  0.640590   0.775770   \n",
       "logreg_up             0.773230    0.756215   0.806435  0.780518   0.773230   \n",
       "logreg_down           0.773281    0.755869   0.807307  0.780741   0.773281   \n",
       "logreg_smote          0.780960    0.758547   0.824303  0.790059   0.780960   \n",
       "logreg_tomek          0.820941    0.714169   0.624199  0.666160   0.762014   \n",
       "logreg_base_lasso     0.811210    0.678924   0.542264  0.602947   0.725057   \n",
       "logreg_weight_lasso   0.759137    0.529081   0.808023  0.639456   0.774797   \n",
       "logreg_up_lasso       0.772844    0.755915   0.805920  0.780117   0.772844   \n",
       "logreg_down_lasso     0.772923    0.755020   0.808023  0.780623   0.772923   \n",
       "logreg_smote_lasso    0.781863    0.760057   0.823787  0.790640   0.781863   \n",
       "logreg_tomek_lasso    0.821756    0.716503   0.624199  0.667174   0.762585   \n",
       "logreg_up_lasso_imp   0.771300    0.752637   0.808237  0.779446   0.771300   \n",
       "\n",
       "                     test_acc  test_prec  test_rec   test_f1  test_auc  \n",
       "logreg_df_base       0.797274   0.655080  0.517970  0.578512  0.708908  \n",
       "logreg_base          0.800681   0.662234  0.526427  0.586572  0.713912  \n",
       "logreg_weight        0.748438   0.520833  0.792812  0.628667  0.762477  \n",
       "logreg_up            0.751278   0.524407  0.794926  0.631933  0.765087  \n",
       "logreg_down          0.742192   0.513032  0.790698  0.622296  0.757538  \n",
       "logreg_smote         0.752413   0.519391  0.808190  0.632378  0.770325  \n",
       "logreg_tomek         0.797274   0.612159  0.629310  0.620616  0.743337  \n",
       "logreg_base_lasso    0.801249   0.663130  0.528541  0.588235  0.714969  \n",
       "logreg_weight_lasso  0.747303   0.519553  0.786469  0.625736  0.759694  \n",
       "logreg_up_lasso      0.746735   0.518776  0.788584  0.625839  0.759975  \n",
       "logreg_down_lasso    0.742192   0.513032  0.790698  0.622296  0.757538  \n",
       "logreg_smote_lasso   0.750142   0.516575  0.806034  0.629630  0.768090  \n",
       "logreg_tomek_lasso   0.797842   0.613445  0.629310  0.621277  0.743722  \n",
       "logreg_up_lasso_imp  0.750142   0.522696  0.803383  0.633333  0.766986  "
      ]
     },
     "execution_count": 375,
     "metadata": {},
     "output_type": "execute_result"
    }
   ],
   "source": [
    "update_tracker(logreg_up_lasso_imp,'logreg_up_lasso_imp',y_train, y_hat_train, y_test, y_hat_test)\n",
    "tracker.head(20)"
   ]
  },
  {
   "cell_type": "code",
   "execution_count": 381,
   "metadata": {
    "scrolled": true
   },
   "outputs": [
    {
     "data": {
      "image/png": "[encoded data removed]",
      "text/plain": [
       "<Figure size 1152x576 with 1 Axes>"
      ]
     },
     "metadata": {
      "needs_background": "light"
     },
     "output_type": "display_data"
    }
   ],
   "source": [
    "best_features_ranking = pd.DataFrame(list(zip(X_train,logreg_up_lasso_imp.coef_[0])),columns=['feature','importance'])\n",
    "best_features_ranking = best_features_ranking.sort_values(by='importance')\n",
    "plt.figure(figsize=(16,8))\n",
    "chart = sns.barplot(x='importance',y='feature',data=best_features_ranking, ci=None,orient='h')\n",
    "plt.title('Feature Importance')\n",
    "plt.show();"
   ]
  },
  {
   "cell_type": "code",
   "execution_count": null,
   "metadata": {},
   "outputs": [],
   "source": []
  },
  {
   "cell_type": "code",
   "execution_count": 378,
   "metadata": {},
   "outputs": [
    {
     "data": {
      "text/plain": [
       "<sklearn.metrics._plot.confusion_matrix.ConfusionMatrixDisplay at 0x12ad022b0>"
      ]
     },
     "execution_count": 378,
     "metadata": {},
     "output_type": "execute_result"
    },
    {
     "data": {
      "image/png": "[encoded data removed]",
      "text/plain": [
       "<Figure size 432x288 with 2 Axes>"
      ]
     },
     "metadata": {
      "needs_background": "light"
     },
     "output_type": "display_data"
    }
   ],
   "source": [
    "plot_confusion_matrix(logreg_up_lasso_imp,X_test,y_test,cmap=plt.cm.Blues)"
   ]
  },
  {
   "cell_type": "markdown",
   "metadata": {},
   "source": [
    "# Best AVG Features, Weight"
   ]
  },
  {
   "cell_type": "code",
   "execution_count": 97,
   "metadata": {},
   "outputs": [],
   "source": [
    "df1 = df[best_features].copy()"
   ]
  },
  {
   "cell_type": "code",
   "execution_count": 98,
   "metadata": {},
   "outputs": [],
   "source": [
    "y = df1['Churn']\n",
    "X = df1.drop(['Churn'],axis=1)\n",
    "\n",
    "X_train, X_test, y_train, y_test = train_test_split(X,y,test_size=.25,random_state=0)"
   ]
  },
  {
   "cell_type": "code",
   "execution_count": 99,
   "metadata": {},
   "outputs": [
    {
     "name": "stderr",
     "output_type": "stream",
     "text": [
      "[Parallel(n_jobs=-1)]: Using backend LokyBackend with 8 concurrent workers.\n",
      "[Parallel(n_jobs=-1)]: Done   2 out of   5 | elapsed:    0.2s remaining:    0.3s\n",
      "[Parallel(n_jobs=-1)]: Done   5 out of   5 | elapsed:    0.2s finished\n"
     ]
    }
   ],
   "source": [
    "logreg_weight_ridge_imp = LogisticRegressionCV(solver='liblinear',penalty='l2',max_iter=1000,cv=5, verbose=1, n_jobs=-1,scoring='f1',class_weight='balanced')\n",
    "logreg_weight_ridge_imp.fit(X_train, y_train)\n",
    "\n",
    "y_hat_train = logreg_weight_ridge_imp.predict(X_train)\n",
    "y_hat_test = logreg_weight_ridge_imp.predict(X_test)\n"
   ]
  },
  {
   "cell_type": "code",
   "execution_count": 100,
   "metadata": {
    "scrolled": true
   },
   "outputs": [
    {
     "data": {
      "text/html": [
       "<div>\n",
       "<style scoped>\n",
       "    .dataframe tbody tr th:only-of-type {\n",
       "        vertical-align: middle;\n",
       "    }\n",
       "\n",
       "    .dataframe tbody tr th {\n",
       "        vertical-align: top;\n",
       "    }\n",
       "\n",
       "    .dataframe thead th {\n",
       "        text-align: right;\n",
       "    }\n",
       "</style>\n",
       "<table border=\"1\" class=\"dataframe\">\n",
       "  <thead>\n",
       "    <tr style=\"text-align: right;\">\n",
       "      <th></th>\n",
       "      <th>train_acc</th>\n",
       "      <th>train_prec</th>\n",
       "      <th>train_rec</th>\n",
       "      <th>train_f1</th>\n",
       "      <th>train_auc</th>\n",
       "      <th>test_acc</th>\n",
       "      <th>test_prec</th>\n",
       "      <th>test_rec</th>\n",
       "      <th>test_f1</th>\n",
       "      <th>test_auc</th>\n",
       "    </tr>\n",
       "  </thead>\n",
       "  <tbody>\n",
       "    <tr>\n",
       "      <th>logreg_df_base</th>\n",
       "      <td>0.808180</td>\n",
       "      <td>0.661331</td>\n",
       "      <td>0.562321</td>\n",
       "      <td>0.607820</td>\n",
       "      <td>0.729423</td>\n",
       "      <td>0.794435</td>\n",
       "      <td>0.648000</td>\n",
       "      <td>0.513742</td>\n",
       "      <td>0.573113</td>\n",
       "      <td>0.705629</td>\n",
       "    </tr>\n",
       "    <tr>\n",
       "      <th>logreg_base</th>\n",
       "      <td>0.811399</td>\n",
       "      <td>0.679533</td>\n",
       "      <td>0.542264</td>\n",
       "      <td>0.603187</td>\n",
       "      <td>0.725186</td>\n",
       "      <td>0.800681</td>\n",
       "      <td>0.662234</td>\n",
       "      <td>0.526427</td>\n",
       "      <td>0.586572</td>\n",
       "      <td>0.713912</td>\n",
       "    </tr>\n",
       "    <tr>\n",
       "      <th>logreg_weight</th>\n",
       "      <td>0.760083</td>\n",
       "      <td>0.530267</td>\n",
       "      <td>0.809456</td>\n",
       "      <td>0.640771</td>\n",
       "      <td>0.775899</td>\n",
       "      <td>0.748438</td>\n",
       "      <td>0.520833</td>\n",
       "      <td>0.792812</td>\n",
       "      <td>0.628667</td>\n",
       "      <td>0.762477</td>\n",
       "    </tr>\n",
       "    <tr>\n",
       "      <th>logreg_up</th>\n",
       "      <td>0.772587</td>\n",
       "      <td>0.756292</td>\n",
       "      <td>0.804376</td>\n",
       "      <td>0.779593</td>\n",
       "      <td>0.772587</td>\n",
       "      <td>0.752981</td>\n",
       "      <td>0.526611</td>\n",
       "      <td>0.794926</td>\n",
       "      <td>0.633530</td>\n",
       "      <td>0.766252</td>\n",
       "    </tr>\n",
       "    <tr>\n",
       "      <th>logreg_down</th>\n",
       "      <td>0.774355</td>\n",
       "      <td>0.757047</td>\n",
       "      <td>0.808023</td>\n",
       "      <td>0.781705</td>\n",
       "      <td>0.774355</td>\n",
       "      <td>0.741056</td>\n",
       "      <td>0.511628</td>\n",
       "      <td>0.790698</td>\n",
       "      <td>0.621262</td>\n",
       "      <td>0.756762</td>\n",
       "    </tr>\n",
       "    <tr>\n",
       "      <th>logreg_smote</th>\n",
       "      <td>0.780444</td>\n",
       "      <td>0.758195</td>\n",
       "      <td>0.823529</td>\n",
       "      <td>0.789513</td>\n",
       "      <td>0.780444</td>\n",
       "      <td>0.752413</td>\n",
       "      <td>0.519391</td>\n",
       "      <td>0.808190</td>\n",
       "      <td>0.632378</td>\n",
       "      <td>0.770325</td>\n",
       "    </tr>\n",
       "    <tr>\n",
       "      <th>logreg_tomek</th>\n",
       "      <td>0.820941</td>\n",
       "      <td>0.714169</td>\n",
       "      <td>0.624199</td>\n",
       "      <td>0.666160</td>\n",
       "      <td>0.762014</td>\n",
       "      <td>0.796706</td>\n",
       "      <td>0.611345</td>\n",
       "      <td>0.627155</td>\n",
       "      <td>0.619149</td>\n",
       "      <td>0.742259</td>\n",
       "    </tr>\n",
       "    <tr>\n",
       "      <th>logreg_base_lasso</th>\n",
       "      <td>0.811399</td>\n",
       "      <td>0.679533</td>\n",
       "      <td>0.542264</td>\n",
       "      <td>0.603187</td>\n",
       "      <td>0.725186</td>\n",
       "      <td>0.801249</td>\n",
       "      <td>0.663130</td>\n",
       "      <td>0.528541</td>\n",
       "      <td>0.588235</td>\n",
       "      <td>0.714969</td>\n",
       "    </tr>\n",
       "    <tr>\n",
       "      <th>logreg_weight_lasso</th>\n",
       "      <td>0.759137</td>\n",
       "      <td>0.529081</td>\n",
       "      <td>0.808023</td>\n",
       "      <td>0.639456</td>\n",
       "      <td>0.774797</td>\n",
       "      <td>0.747303</td>\n",
       "      <td>0.519553</td>\n",
       "      <td>0.786469</td>\n",
       "      <td>0.625736</td>\n",
       "      <td>0.759694</td>\n",
       "    </tr>\n",
       "    <tr>\n",
       "      <th>logreg_up_lasso</th>\n",
       "      <td>0.772844</td>\n",
       "      <td>0.755915</td>\n",
       "      <td>0.805920</td>\n",
       "      <td>0.780117</td>\n",
       "      <td>0.772844</td>\n",
       "      <td>0.746735</td>\n",
       "      <td>0.518776</td>\n",
       "      <td>0.788584</td>\n",
       "      <td>0.625839</td>\n",
       "      <td>0.759975</td>\n",
       "    </tr>\n",
       "    <tr>\n",
       "      <th>logreg_down_lasso</th>\n",
       "      <td>0.772923</td>\n",
       "      <td>0.755020</td>\n",
       "      <td>0.808023</td>\n",
       "      <td>0.780623</td>\n",
       "      <td>0.772923</td>\n",
       "      <td>0.742192</td>\n",
       "      <td>0.513032</td>\n",
       "      <td>0.790698</td>\n",
       "      <td>0.622296</td>\n",
       "      <td>0.757538</td>\n",
       "    </tr>\n",
       "    <tr>\n",
       "      <th>logreg_smote_lasso</th>\n",
       "      <td>0.781089</td>\n",
       "      <td>0.758973</td>\n",
       "      <td>0.823787</td>\n",
       "      <td>0.790053</td>\n",
       "      <td>0.781089</td>\n",
       "      <td>0.750710</td>\n",
       "      <td>0.517289</td>\n",
       "      <td>0.806034</td>\n",
       "      <td>0.630160</td>\n",
       "      <td>0.768476</td>\n",
       "    </tr>\n",
       "    <tr>\n",
       "      <th>logreg_tomek_lasso</th>\n",
       "      <td>0.821349</td>\n",
       "      <td>0.715686</td>\n",
       "      <td>0.623488</td>\n",
       "      <td>0.666413</td>\n",
       "      <td>0.762086</td>\n",
       "      <td>0.797842</td>\n",
       "      <td>0.613445</td>\n",
       "      <td>0.629310</td>\n",
       "      <td>0.621277</td>\n",
       "      <td>0.743722</td>\n",
       "    </tr>\n",
       "    <tr>\n",
       "      <th>logreg_up_lasso_imp</th>\n",
       "      <td>0.772072</td>\n",
       "      <td>0.755068</td>\n",
       "      <td>0.805405</td>\n",
       "      <td>0.779425</td>\n",
       "      <td>0.772072</td>\n",
       "      <td>0.749574</td>\n",
       "      <td>0.522161</td>\n",
       "      <td>0.797040</td>\n",
       "      <td>0.630962</td>\n",
       "      <td>0.764592</td>\n",
       "    </tr>\n",
       "    <tr>\n",
       "      <th>logreg_weight_ridge_imp</th>\n",
       "      <td>0.760083</td>\n",
       "      <td>0.530211</td>\n",
       "      <td>0.810888</td>\n",
       "      <td>0.641178</td>\n",
       "      <td>0.776358</td>\n",
       "      <td>0.750710</td>\n",
       "      <td>0.523743</td>\n",
       "      <td>0.792812</td>\n",
       "      <td>0.630782</td>\n",
       "      <td>0.764030</td>\n",
       "    </tr>\n",
       "  </tbody>\n",
       "</table>\n",
       "</div>"
      ],
      "text/plain": [
       "                         train_acc  train_prec  train_rec  train_f1  \\\n",
       "logreg_df_base            0.808180    0.661331   0.562321  0.607820   \n",
       "logreg_base               0.811399    0.679533   0.542264  0.603187   \n",
       "logreg_weight             0.760083    0.530267   0.809456  0.640771   \n",
       "logreg_up                 0.772587    0.756292   0.804376  0.779593   \n",
       "logreg_down               0.774355    0.757047   0.808023  0.781705   \n",
       "logreg_smote              0.780444    0.758195   0.823529  0.789513   \n",
       "logreg_tomek              0.820941    0.714169   0.624199  0.666160   \n",
       "logreg_base_lasso         0.811399    0.679533   0.542264  0.603187   \n",
       "logreg_weight_lasso       0.759137    0.529081   0.808023  0.639456   \n",
       "logreg_up_lasso           0.772844    0.755915   0.805920  0.780117   \n",
       "logreg_down_lasso         0.772923    0.755020   0.808023  0.780623   \n",
       "logreg_smote_lasso        0.781089    0.758973   0.823787  0.790053   \n",
       "logreg_tomek_lasso        0.821349    0.715686   0.623488  0.666413   \n",
       "logreg_up_lasso_imp       0.772072    0.755068   0.805405  0.779425   \n",
       "logreg_weight_ridge_imp   0.760083    0.530211   0.810888  0.641178   \n",
       "\n",
       "                         train_auc  test_acc  test_prec  test_rec   test_f1  \\\n",
       "logreg_df_base            0.729423  0.794435   0.648000  0.513742  0.573113   \n",
       "logreg_base               0.725186  0.800681   0.662234  0.526427  0.586572   \n",
       "logreg_weight             0.775899  0.748438   0.520833  0.792812  0.628667   \n",
       "logreg_up                 0.772587  0.752981   0.526611  0.794926  0.633530   \n",
       "logreg_down               0.774355  0.741056   0.511628  0.790698  0.621262   \n",
       "logreg_smote              0.780444  0.752413   0.519391  0.808190  0.632378   \n",
       "logreg_tomek              0.762014  0.796706   0.611345  0.627155  0.619149   \n",
       "logreg_base_lasso         0.725186  0.801249   0.663130  0.528541  0.588235   \n",
       "logreg_weight_lasso       0.774797  0.747303   0.519553  0.786469  0.625736   \n",
       "logreg_up_lasso           0.772844  0.746735   0.518776  0.788584  0.625839   \n",
       "logreg_down_lasso         0.772923  0.742192   0.513032  0.790698  0.622296   \n",
       "logreg_smote_lasso        0.781089  0.750710   0.517289  0.806034  0.630160   \n",
       "logreg_tomek_lasso        0.762086  0.797842   0.613445  0.629310  0.621277   \n",
       "logreg_up_lasso_imp       0.772072  0.749574   0.522161  0.797040  0.630962   \n",
       "logreg_weight_ridge_imp   0.776358  0.750710   0.523743  0.792812  0.630782   \n",
       "\n",
       "                         test_auc  \n",
       "logreg_df_base           0.705629  \n",
       "logreg_base              0.713912  \n",
       "logreg_weight            0.762477  \n",
       "logreg_up                0.766252  \n",
       "logreg_down              0.756762  \n",
       "logreg_smote             0.770325  \n",
       "logreg_tomek             0.742259  \n",
       "logreg_base_lasso        0.714969  \n",
       "logreg_weight_lasso      0.759694  \n",
       "logreg_up_lasso          0.759975  \n",
       "logreg_down_lasso        0.757538  \n",
       "logreg_smote_lasso       0.768476  \n",
       "logreg_tomek_lasso       0.743722  \n",
       "logreg_up_lasso_imp      0.764592  \n",
       "logreg_weight_ridge_imp  0.764030  "
      ]
     },
     "execution_count": 100,
     "metadata": {},
     "output_type": "execute_result"
    }
   ],
   "source": [
    "update_tracker(logreg_weight_ridge_imp,'logreg_weight_ridge_imp',y_train, y_hat_train, y_test, y_hat_test)\n",
    "tracker.head(20)"
   ]
  },
  {
   "cell_type": "code",
   "execution_count": 383,
   "metadata": {},
   "outputs": [
    {
     "data": {
      "text/plain": [
       "<matplotlib.table.Table at 0x12acc6af0>"
      ]
     },
     "execution_count": 383,
     "metadata": {},
     "output_type": "execute_result"
    },
    {
     "data": {
      "image/png": "[encoded data removed]",
      "text/plain": [
       "<Figure size 432x288 with 1 Axes>"
      ]
     },
     "metadata": {
      "needs_background": "light"
     },
     "output_type": "display_data"
    }
   ],
   "source": [
    "import matplotlib.pyplot as plt\n",
    "import pandas as pd\n",
    "from pandas.plotting import table \n",
    "\n",
    "ax = plt.subplot(111, frame_on=False) # no visible frame\n",
    "ax.xaxis.set_visible(False)  # hide the x axis\n",
    "ax.yaxis.set_visible(False)  # hide the y axis\n",
    "\n",
    "table(ax, tracker)  # where df is your data frame"
   ]
  },
  {
   "cell_type": "code",
   "execution_count": 101,
   "metadata": {},
   "outputs": [],
   "source": [
    "logreg_results = tracker[['train_f1','test_f1']]"
   ]
  },
  {
   "cell_type": "code",
   "execution_count": 102,
   "metadata": {},
   "outputs": [],
   "source": [
    "logreg_results.to_csv('logreg_results.csv')"
   ]
  },
  {
   "cell_type": "code",
   "execution_count": 103,
   "metadata": {},
   "outputs": [
    {
     "data": {
      "image/png": "[encoded data removed]",
      "text/plain": [
       "<Figure size 1152x576 with 1 Axes>"
      ]
     },
     "metadata": {
      "needs_background": "light"
     },
     "output_type": "display_data"
    }
   ],
   "source": [
    "best_features_ranking = pd.DataFrame(list(zip(X_train,logreg_weight_ridge_imp.coef_[0])),columns=['feature','importance'])\n",
    "best_features_ranking = best_features_ranking.sort_values(by='importance')\n",
    "plt.figure(figsize=(16,8))\n",
    "chart = sns.barplot(x='importance',y='feature',data=best_features_ranking, ci=None,orient='h')"
   ]
  },
  {
   "cell_type": "markdown",
   "metadata": {},
   "source": [
    "# Poly2, weight, lasso, RFE"
   ]
  },
  {
   "cell_type": "code",
   "execution_count": 104,
   "metadata": {},
   "outputs": [],
   "source": [
    "from sklearn.preprocessing import PolynomialFeatures, StandardScaler"
   ]
  },
  {
   "cell_type": "code",
   "execution_count": 105,
   "metadata": {},
   "outputs": [],
   "source": [
    "df1 = df[best_features].copy()"
   ]
  },
  {
   "cell_type": "code",
   "execution_count": 106,
   "metadata": {},
   "outputs": [],
   "source": [
    "y = df1['Churn']\n",
    "X = df1.drop(['Churn'],axis=1)"
   ]
  },
  {
   "cell_type": "code",
   "execution_count": 107,
   "metadata": {},
   "outputs": [],
   "source": [
    "poly = PolynomialFeatures(degree=2, include_bias=False, interaction_only = False)\n",
    "poly_data = poly.fit_transform(X)\n",
    "poly_columns = poly.get_feature_names(X.columns)\n",
    "X_poly = pd.DataFrame(poly_data, columns=poly_columns)"
   ]
  },
  {
   "cell_type": "code",
   "execution_count": 108,
   "metadata": {},
   "outputs": [],
   "source": [
    "X_train, X_test, y_train, y_test = train_test_split(X_poly,y,test_size=.25, random_state=0)"
   ]
  },
  {
   "cell_type": "code",
   "execution_count": 109,
   "metadata": {},
   "outputs": [
    {
     "name": "stdout",
     "output_type": "stream",
     "text": [
      "Fitting estimator with 170 features.\n",
      "Fitting estimator with 169 features.\n",
      "Fitting estimator with 168 features.\n",
      "Fitting estimator with 167 features.\n",
      "Fitting estimator with 166 features.\n",
      "Fitting estimator with 165 features.\n",
      "Fitting estimator with 164 features.\n",
      "Fitting estimator with 163 features.\n",
      "Fitting estimator with 162 features.\n",
      "Fitting estimator with 161 features.\n",
      "Fitting estimator with 160 features.\n",
      "Fitting estimator with 159 features.\n",
      "Fitting estimator with 158 features.\n",
      "Fitting estimator with 157 features.\n",
      "Fitting estimator with 156 features.\n",
      "Fitting estimator with 155 features.\n",
      "Fitting estimator with 154 features.\n",
      "Fitting estimator with 153 features.\n",
      "Fitting estimator with 152 features.\n",
      "Fitting estimator with 151 features.\n",
      "Fitting estimator with 150 features.\n",
      "Fitting estimator with 149 features.\n",
      "Fitting estimator with 148 features.\n"
     ]
    },
    {
     "ename": "KeyboardInterrupt",
     "evalue": "",
     "output_type": "error",
     "traceback": [
      "\u001b[0;31m---------------------------------------------------------------------------\u001b[0m",
      "\u001b[0;31mKeyboardInterrupt\u001b[0m                         Traceback (most recent call last)",
      "\u001b[0;32m<ipython-input-109-c2298325e47b>\u001b[0m in \u001b[0;36m<module>\u001b[0;34m\u001b[0m\n\u001b[1;32m      2\u001b[0m \u001b[0mmodel\u001b[0m \u001b[0;34m=\u001b[0m \u001b[0mLogisticRegressionCV\u001b[0m\u001b[0;34m(\u001b[0m\u001b[0msolver\u001b[0m\u001b[0;34m=\u001b[0m\u001b[0;34m'liblinear'\u001b[0m\u001b[0;34m,\u001b[0m\u001b[0mmax_iter\u001b[0m\u001b[0;34m=\u001b[0m\u001b[0;36m1000\u001b[0m\u001b[0;34m,\u001b[0m \u001b[0mcv\u001b[0m\u001b[0;34m=\u001b[0m\u001b[0;36m10\u001b[0m\u001b[0;34m,\u001b[0m \u001b[0mclass_weight\u001b[0m\u001b[0;34m=\u001b[0m\u001b[0;34m'balanced'\u001b[0m\u001b[0;34m,\u001b[0m\u001b[0mscoring\u001b[0m\u001b[0;34m=\u001b[0m\u001b[0;34m'f1'\u001b[0m\u001b[0;34m,\u001b[0m \u001b[0mn_jobs\u001b[0m\u001b[0;34m=\u001b[0m\u001b[0;34m-\u001b[0m\u001b[0;36m1\u001b[0m\u001b[0;34m)\u001b[0m\u001b[0;34m\u001b[0m\u001b[0;34m\u001b[0m\u001b[0m\n\u001b[1;32m      3\u001b[0m \u001b[0mrfe_stand\u001b[0m \u001b[0;34m=\u001b[0m \u001b[0mRFE\u001b[0m\u001b[0;34m(\u001b[0m\u001b[0mmodel\u001b[0m\u001b[0;34m,\u001b[0m \u001b[0mn_features_to_select\u001b[0m\u001b[0;34m=\u001b[0m\u001b[0mnum_features\u001b[0m\u001b[0;34m,\u001b[0m\u001b[0mverbose\u001b[0m\u001b[0;34m=\u001b[0m\u001b[0;36m1\u001b[0m\u001b[0;34m,\u001b[0m\u001b[0;34m)\u001b[0m\u001b[0;34m\u001b[0m\u001b[0;34m\u001b[0m\u001b[0m\n\u001b[0;32m----> 4\u001b[0;31m \u001b[0mfit_stand\u001b[0m \u001b[0;34m=\u001b[0m \u001b[0mrfe_stand\u001b[0m\u001b[0;34m.\u001b[0m\u001b[0mfit\u001b[0m\u001b[0;34m(\u001b[0m\u001b[0mX_train\u001b[0m\u001b[0;34m,\u001b[0m \u001b[0my_train\u001b[0m\u001b[0;34m)\u001b[0m\u001b[0;34m\u001b[0m\u001b[0;34m\u001b[0m\u001b[0m\n\u001b[0m\u001b[1;32m      5\u001b[0m \u001b[0;34m\u001b[0m\u001b[0m\n\u001b[1;32m      6\u001b[0m \u001b[0mprint\u001b[0m\u001b[0;34m(\u001b[0m\u001b[0;34m\"Std Model Feature Ranking:\"\u001b[0m\u001b[0;34m,\u001b[0m \u001b[0mfit_stand\u001b[0m\u001b[0;34m.\u001b[0m\u001b[0mranking_\u001b[0m\u001b[0;34m)\u001b[0m\u001b[0;34m\u001b[0m\u001b[0;34m\u001b[0m\u001b[0m\n",
      "\u001b[0;32m~/opt/anaconda3/lib/python3.8/site-packages/sklearn/feature_selection/_rfe.py\u001b[0m in \u001b[0;36mfit\u001b[0;34m(self, X, y)\u001b[0m\n\u001b[1;32m    149\u001b[0m             \u001b[0mThe\u001b[0m \u001b[0mtarget\u001b[0m \u001b[0mvalues\u001b[0m\u001b[0;34m.\u001b[0m\u001b[0;34m\u001b[0m\u001b[0;34m\u001b[0m\u001b[0m\n\u001b[1;32m    150\u001b[0m         \"\"\"\n\u001b[0;32m--> 151\u001b[0;31m         \u001b[0;32mreturn\u001b[0m \u001b[0mself\u001b[0m\u001b[0;34m.\u001b[0m\u001b[0m_fit\u001b[0m\u001b[0;34m(\u001b[0m\u001b[0mX\u001b[0m\u001b[0;34m,\u001b[0m \u001b[0my\u001b[0m\u001b[0;34m)\u001b[0m\u001b[0;34m\u001b[0m\u001b[0;34m\u001b[0m\u001b[0m\n\u001b[0m\u001b[1;32m    152\u001b[0m \u001b[0;34m\u001b[0m\u001b[0m\n\u001b[1;32m    153\u001b[0m     \u001b[0;32mdef\u001b[0m \u001b[0m_fit\u001b[0m\u001b[0;34m(\u001b[0m\u001b[0mself\u001b[0m\u001b[0;34m,\u001b[0m \u001b[0mX\u001b[0m\u001b[0;34m,\u001b[0m \u001b[0my\u001b[0m\u001b[0;34m,\u001b[0m \u001b[0mstep_score\u001b[0m\u001b[0;34m=\u001b[0m\u001b[0;32mNone\u001b[0m\u001b[0;34m)\u001b[0m\u001b[0;34m:\u001b[0m\u001b[0;34m\u001b[0m\u001b[0;34m\u001b[0m\u001b[0m\n",
      "\u001b[0;32m~/opt/anaconda3/lib/python3.8/site-packages/sklearn/feature_selection/_rfe.py\u001b[0m in \u001b[0;36m_fit\u001b[0;34m(self, X, y, step_score)\u001b[0m\n\u001b[1;32m    194\u001b[0m                 \u001b[0mprint\u001b[0m\u001b[0;34m(\u001b[0m\u001b[0;34m\"Fitting estimator with %d features.\"\u001b[0m \u001b[0;34m%\u001b[0m \u001b[0mnp\u001b[0m\u001b[0;34m.\u001b[0m\u001b[0msum\u001b[0m\u001b[0;34m(\u001b[0m\u001b[0msupport_\u001b[0m\u001b[0;34m)\u001b[0m\u001b[0;34m)\u001b[0m\u001b[0;34m\u001b[0m\u001b[0;34m\u001b[0m\u001b[0m\n\u001b[1;32m    195\u001b[0m \u001b[0;34m\u001b[0m\u001b[0m\n\u001b[0;32m--> 196\u001b[0;31m             \u001b[0mestimator\u001b[0m\u001b[0;34m.\u001b[0m\u001b[0mfit\u001b[0m\u001b[0;34m(\u001b[0m\u001b[0mX\u001b[0m\u001b[0;34m[\u001b[0m\u001b[0;34m:\u001b[0m\u001b[0;34m,\u001b[0m \u001b[0mfeatures\u001b[0m\u001b[0;34m]\u001b[0m\u001b[0;34m,\u001b[0m \u001b[0my\u001b[0m\u001b[0;34m)\u001b[0m\u001b[0;34m\u001b[0m\u001b[0;34m\u001b[0m\u001b[0m\n\u001b[0m\u001b[1;32m    197\u001b[0m \u001b[0;34m\u001b[0m\u001b[0m\n\u001b[1;32m    198\u001b[0m             \u001b[0;31m# Get coefs\u001b[0m\u001b[0;34m\u001b[0m\u001b[0;34m\u001b[0m\u001b[0;34m\u001b[0m\u001b[0m\n",
      "\u001b[0;32m~/opt/anaconda3/lib/python3.8/site-packages/sklearn/linear_model/_logistic.py\u001b[0m in \u001b[0;36mfit\u001b[0;34m(self, X, y, sample_weight)\u001b[0m\n\u001b[1;32m   1883\u001b[0m             \u001b[0mprefer\u001b[0m \u001b[0;34m=\u001b[0m \u001b[0;34m'processes'\u001b[0m\u001b[0;34m\u001b[0m\u001b[0;34m\u001b[0m\u001b[0m\n\u001b[1;32m   1884\u001b[0m \u001b[0;34m\u001b[0m\u001b[0m\n\u001b[0;32m-> 1885\u001b[0;31m         fold_coefs_ = Parallel(n_jobs=self.n_jobs, verbose=self.verbose,\n\u001b[0m\u001b[1;32m   1886\u001b[0m                                \u001b[0;34m**\u001b[0m\u001b[0m_joblib_parallel_args\u001b[0m\u001b[0;34m(\u001b[0m\u001b[0mprefer\u001b[0m\u001b[0;34m=\u001b[0m\u001b[0mprefer\u001b[0m\u001b[0;34m)\u001b[0m\u001b[0;34m)\u001b[0m\u001b[0;34m(\u001b[0m\u001b[0;34m\u001b[0m\u001b[0;34m\u001b[0m\u001b[0m\n\u001b[1;32m   1887\u001b[0m             path_func(X, y, train, test, pos_class=label, Cs=self.Cs,\n",
      "\u001b[0;32m~/opt/anaconda3/lib/python3.8/site-packages/joblib/parallel.py\u001b[0m in \u001b[0;36m__call__\u001b[0;34m(self, iterable)\u001b[0m\n\u001b[1;32m   1040\u001b[0m \u001b[0;34m\u001b[0m\u001b[0m\n\u001b[1;32m   1041\u001b[0m             \u001b[0;32mwith\u001b[0m \u001b[0mself\u001b[0m\u001b[0;34m.\u001b[0m\u001b[0m_backend\u001b[0m\u001b[0;34m.\u001b[0m\u001b[0mretrieval_context\u001b[0m\u001b[0;34m(\u001b[0m\u001b[0;34m)\u001b[0m\u001b[0;34m:\u001b[0m\u001b[0;34m\u001b[0m\u001b[0;34m\u001b[0m\u001b[0m\n\u001b[0;32m-> 1042\u001b[0;31m                 \u001b[0mself\u001b[0m\u001b[0;34m.\u001b[0m\u001b[0mretrieve\u001b[0m\u001b[0;34m(\u001b[0m\u001b[0;34m)\u001b[0m\u001b[0;34m\u001b[0m\u001b[0;34m\u001b[0m\u001b[0m\n\u001b[0m\u001b[1;32m   1043\u001b[0m             \u001b[0;31m# Make sure that we get a last message telling us we are done\u001b[0m\u001b[0;34m\u001b[0m\u001b[0;34m\u001b[0m\u001b[0;34m\u001b[0m\u001b[0m\n\u001b[1;32m   1044\u001b[0m             \u001b[0melapsed_time\u001b[0m \u001b[0;34m=\u001b[0m \u001b[0mtime\u001b[0m\u001b[0;34m.\u001b[0m\u001b[0mtime\u001b[0m\u001b[0;34m(\u001b[0m\u001b[0;34m)\u001b[0m \u001b[0;34m-\u001b[0m \u001b[0mself\u001b[0m\u001b[0;34m.\u001b[0m\u001b[0m_start_time\u001b[0m\u001b[0;34m\u001b[0m\u001b[0;34m\u001b[0m\u001b[0m\n",
      "\u001b[0;32m~/opt/anaconda3/lib/python3.8/site-packages/joblib/parallel.py\u001b[0m in \u001b[0;36mretrieve\u001b[0;34m(self)\u001b[0m\n\u001b[1;32m    919\u001b[0m             \u001b[0;32mtry\u001b[0m\u001b[0;34m:\u001b[0m\u001b[0;34m\u001b[0m\u001b[0;34m\u001b[0m\u001b[0m\n\u001b[1;32m    920\u001b[0m                 \u001b[0;32mif\u001b[0m \u001b[0mgetattr\u001b[0m\u001b[0;34m(\u001b[0m\u001b[0mself\u001b[0m\u001b[0;34m.\u001b[0m\u001b[0m_backend\u001b[0m\u001b[0;34m,\u001b[0m \u001b[0;34m'supports_timeout'\u001b[0m\u001b[0;34m,\u001b[0m \u001b[0;32mFalse\u001b[0m\u001b[0;34m)\u001b[0m\u001b[0;34m:\u001b[0m\u001b[0;34m\u001b[0m\u001b[0;34m\u001b[0m\u001b[0m\n\u001b[0;32m--> 921\u001b[0;31m                     \u001b[0mself\u001b[0m\u001b[0;34m.\u001b[0m\u001b[0m_output\u001b[0m\u001b[0;34m.\u001b[0m\u001b[0mextend\u001b[0m\u001b[0;34m(\u001b[0m\u001b[0mjob\u001b[0m\u001b[0;34m.\u001b[0m\u001b[0mget\u001b[0m\u001b[0;34m(\u001b[0m\u001b[0mtimeout\u001b[0m\u001b[0;34m=\u001b[0m\u001b[0mself\u001b[0m\u001b[0;34m.\u001b[0m\u001b[0mtimeout\u001b[0m\u001b[0;34m)\u001b[0m\u001b[0;34m)\u001b[0m\u001b[0;34m\u001b[0m\u001b[0;34m\u001b[0m\u001b[0m\n\u001b[0m\u001b[1;32m    922\u001b[0m                 \u001b[0;32melse\u001b[0m\u001b[0;34m:\u001b[0m\u001b[0;34m\u001b[0m\u001b[0;34m\u001b[0m\u001b[0m\n\u001b[1;32m    923\u001b[0m                     \u001b[0mself\u001b[0m\u001b[0;34m.\u001b[0m\u001b[0m_output\u001b[0m\u001b[0;34m.\u001b[0m\u001b[0mextend\u001b[0m\u001b[0;34m(\u001b[0m\u001b[0mjob\u001b[0m\u001b[0;34m.\u001b[0m\u001b[0mget\u001b[0m\u001b[0;34m(\u001b[0m\u001b[0;34m)\u001b[0m\u001b[0;34m)\u001b[0m\u001b[0;34m\u001b[0m\u001b[0;34m\u001b[0m\u001b[0m\n",
      "\u001b[0;32m~/opt/anaconda3/lib/python3.8/site-packages/joblib/_parallel_backends.py\u001b[0m in \u001b[0;36mwrap_future_result\u001b[0;34m(future, timeout)\u001b[0m\n\u001b[1;32m    540\u001b[0m         AsyncResults.get from multiprocessing.\"\"\"\n\u001b[1;32m    541\u001b[0m         \u001b[0;32mtry\u001b[0m\u001b[0;34m:\u001b[0m\u001b[0;34m\u001b[0m\u001b[0;34m\u001b[0m\u001b[0m\n\u001b[0;32m--> 542\u001b[0;31m             \u001b[0;32mreturn\u001b[0m \u001b[0mfuture\u001b[0m\u001b[0;34m.\u001b[0m\u001b[0mresult\u001b[0m\u001b[0;34m(\u001b[0m\u001b[0mtimeout\u001b[0m\u001b[0;34m=\u001b[0m\u001b[0mtimeout\u001b[0m\u001b[0;34m)\u001b[0m\u001b[0;34m\u001b[0m\u001b[0;34m\u001b[0m\u001b[0m\n\u001b[0m\u001b[1;32m    543\u001b[0m         \u001b[0;32mexcept\u001b[0m \u001b[0mCfTimeoutError\u001b[0m \u001b[0;32mas\u001b[0m \u001b[0me\u001b[0m\u001b[0;34m:\u001b[0m\u001b[0;34m\u001b[0m\u001b[0;34m\u001b[0m\u001b[0m\n\u001b[1;32m    544\u001b[0m             \u001b[0;32mraise\u001b[0m \u001b[0mTimeoutError\u001b[0m \u001b[0;32mfrom\u001b[0m \u001b[0me\u001b[0m\u001b[0;34m\u001b[0m\u001b[0;34m\u001b[0m\u001b[0m\n",
      "\u001b[0;32m~/opt/anaconda3/lib/python3.8/concurrent/futures/_base.py\u001b[0m in \u001b[0;36mresult\u001b[0;34m(self, timeout)\u001b[0m\n\u001b[1;32m    432\u001b[0m                 \u001b[0;32mreturn\u001b[0m \u001b[0mself\u001b[0m\u001b[0;34m.\u001b[0m\u001b[0m__get_result\u001b[0m\u001b[0;34m(\u001b[0m\u001b[0;34m)\u001b[0m\u001b[0;34m\u001b[0m\u001b[0;34m\u001b[0m\u001b[0m\n\u001b[1;32m    433\u001b[0m \u001b[0;34m\u001b[0m\u001b[0m\n\u001b[0;32m--> 434\u001b[0;31m             \u001b[0mself\u001b[0m\u001b[0;34m.\u001b[0m\u001b[0m_condition\u001b[0m\u001b[0;34m.\u001b[0m\u001b[0mwait\u001b[0m\u001b[0;34m(\u001b[0m\u001b[0mtimeout\u001b[0m\u001b[0;34m)\u001b[0m\u001b[0;34m\u001b[0m\u001b[0;34m\u001b[0m\u001b[0m\n\u001b[0m\u001b[1;32m    435\u001b[0m \u001b[0;34m\u001b[0m\u001b[0m\n\u001b[1;32m    436\u001b[0m             \u001b[0;32mif\u001b[0m \u001b[0mself\u001b[0m\u001b[0;34m.\u001b[0m\u001b[0m_state\u001b[0m \u001b[0;32min\u001b[0m \u001b[0;34m[\u001b[0m\u001b[0mCANCELLED\u001b[0m\u001b[0;34m,\u001b[0m \u001b[0mCANCELLED_AND_NOTIFIED\u001b[0m\u001b[0;34m]\u001b[0m\u001b[0;34m:\u001b[0m\u001b[0;34m\u001b[0m\u001b[0;34m\u001b[0m\u001b[0m\n",
      "\u001b[0;32m~/opt/anaconda3/lib/python3.8/threading.py\u001b[0m in \u001b[0;36mwait\u001b[0;34m(self, timeout)\u001b[0m\n\u001b[1;32m    300\u001b[0m         \u001b[0;32mtry\u001b[0m\u001b[0;34m:\u001b[0m    \u001b[0;31m# restore state no matter what (e.g., KeyboardInterrupt)\u001b[0m\u001b[0;34m\u001b[0m\u001b[0;34m\u001b[0m\u001b[0m\n\u001b[1;32m    301\u001b[0m             \u001b[0;32mif\u001b[0m \u001b[0mtimeout\u001b[0m \u001b[0;32mis\u001b[0m \u001b[0;32mNone\u001b[0m\u001b[0;34m:\u001b[0m\u001b[0;34m\u001b[0m\u001b[0;34m\u001b[0m\u001b[0m\n\u001b[0;32m--> 302\u001b[0;31m                 \u001b[0mwaiter\u001b[0m\u001b[0;34m.\u001b[0m\u001b[0macquire\u001b[0m\u001b[0;34m(\u001b[0m\u001b[0;34m)\u001b[0m\u001b[0;34m\u001b[0m\u001b[0;34m\u001b[0m\u001b[0m\n\u001b[0m\u001b[1;32m    303\u001b[0m                 \u001b[0mgotit\u001b[0m \u001b[0;34m=\u001b[0m \u001b[0;32mTrue\u001b[0m\u001b[0;34m\u001b[0m\u001b[0;34m\u001b[0m\u001b[0m\n\u001b[1;32m    304\u001b[0m             \u001b[0;32melse\u001b[0m\u001b[0;34m:\u001b[0m\u001b[0;34m\u001b[0m\u001b[0;34m\u001b[0m\u001b[0m\n",
      "\u001b[0;31mKeyboardInterrupt\u001b[0m: "
     ]
    }
   ],
   "source": [
    "num_features = 100\n",
    "model = LogisticRegressionCV(solver='liblinear',max_iter=1000, cv=10, class_weight='balanced',scoring='f1', n_jobs=-1)\n",
    "rfe_stand = RFE(model, n_features_to_select=num_features,verbose=1,)\n",
    "fit_stand = rfe_stand.fit(X_train, y_train)\n",
    "\n",
    "print(\"Std Model Feature Ranking:\", fit_stand.ranking_)\n",
    "\n",
    "score_stand = rfe_stand.score(X_train,y_train,)\n",
    "print(\"Standardized Model Score with selected features is: %f (%f)\" % (score_stand.mean(), score_stand.std()))"
   ]
  },
  {
   "cell_type": "code",
   "execution_count": null,
   "metadata": {},
   "outputs": [],
   "source": [
    "feature_names = np.array(X_poly.columns)"
   ]
  },
  {
   "cell_type": "code",
   "execution_count": null,
   "metadata": {},
   "outputs": [],
   "source": [
    "X_imp = X_poly[feature_names[rfe_stand.support_]]\n",
    "y = y\n",
    "\n",
    "X_train, X_test, y_train, y_test = train_test_split(X_imp,y,test_size=.25, random_state=0)"
   ]
  },
  {
   "cell_type": "code",
   "execution_count": null,
   "metadata": {},
   "outputs": [],
   "source": [
    "logreg_weight_poly2 = LogisticRegressionCV(solver='liblinear',class_weight='balanced',max_iter=1000,cv=5, verbose=1, n_jobs=-1)\n",
    "logreg_weight_poly2.fit(X_train, y_train)\n",
    "\n",
    "y_hat_train = logreg_weight_poly2.predict(X_train)\n",
    "y_hat_test = logreg_weight_poly2.predict(X_test)"
   ]
  },
  {
   "cell_type": "code",
   "execution_count": null,
   "metadata": {
    "scrolled": true
   },
   "outputs": [],
   "source": [
    "update_tracker(logreg_weight_poly2,'logreg_weight_poly2_imp',y_train, y_hat_train, y_test, y_hat_test)\n",
    "tracker.head(20)"
   ]
  },
  {
   "cell_type": "code",
   "execution_count": null,
   "metadata": {},
   "outputs": [],
   "source": [
    "coef_df = get_best_features(logreg_weight_poly2, X_train).sort_values(by='coef_val')"
   ]
  },
  {
   "cell_type": "code",
   "execution_count": null,
   "metadata": {},
   "outputs": [],
   "source": [
    "coef_df"
   ]
  },
  {
   "cell_type": "markdown",
   "metadata": {},
   "source": [
    "# VIF Analysis"
   ]
  },
  {
   "cell_type": "code",
   "execution_count": null,
   "metadata": {},
   "outputs": [],
   "source": [
    "y = df['Churn']\n",
    "X = df.drop(['Churn'],axis=1)"
   ]
  },
  {
   "cell_type": "code",
   "execution_count": null,
   "metadata": {},
   "outputs": [],
   "source": [
    "from statsmodels.stats.outliers_influence import variance_inflation_factor\n",
    "\n",
    "viffactor = [variance_inflation_factor(X.values, i) for i in range(X.shape[1])]\n",
    "\n",
    "vif = pd.DataFrame()\n",
    "vif[\"VIF Factor\"] = viffactor\n",
    "#[variance_inflation_factor(df_features.values, i) for i in range(df_features.shape[1])]\n",
    "vif[\"features\"] = X.columns\n",
    "vif = vif.round(1).sort_values(\"VIF Factor\",ascending=True)\n",
    "worst_features = vif[vif['VIF Factor']>20]['features']"
   ]
  },
  {
   "cell_type": "code",
   "execution_count": null,
   "metadata": {},
   "outputs": [],
   "source": [
    "X = X.drop(worst_features,axis=1)"
   ]
  },
  {
   "cell_type": "code",
   "execution_count": null,
   "metadata": {},
   "outputs": [],
   "source": [
    "X_train, X_test, y_train, y_test = train_test_split(X,y,test_size=.25, random_state=0)"
   ]
  },
  {
   "cell_type": "code",
   "execution_count": null,
   "metadata": {},
   "outputs": [],
   "source": [
    "logreg_vif = LogisticRegressionCV(solver='liblinear',max_iter=1000, cv=10, class_weight='balanced',scoring='f1')\n",
    "\n",
    "logreg_vif.fit(X_train, y_train)\n",
    "\n",
    "y_hat_train = logreg_vif.predict(X_train)\n",
    "y_hat_test = logreg_vif.predict(X_test)"
   ]
  },
  {
   "cell_type": "code",
   "execution_count": null,
   "metadata": {},
   "outputs": [],
   "source": [
    "update_tracker(logreg_vif,'logreg_vif',y_train, y_hat_train, y_test, y_hat_test)\n",
    "tracker.head(20)"
   ]
  },
  {
   "cell_type": "markdown",
   "metadata": {},
   "source": [
    "# VIF on Poly2"
   ]
  },
  {
   "cell_type": "code",
   "execution_count": null,
   "metadata": {},
   "outputs": [],
   "source": [
    "y = df1['Churn']\n",
    "X = df1.drop(['Churn'],axis=1)"
   ]
  },
  {
   "cell_type": "code",
   "execution_count": null,
   "metadata": {},
   "outputs": [],
   "source": [
    "poly = PolynomialFeatures(degree=2, include_bias=False, interaction_only = False)\n",
    "poly_data = poly.fit_transform(X)\n",
    "poly_columns = poly.get_feature_names(X.columns)\n",
    "X_poly = pd.DataFrame(poly_data, columns=poly_columns)"
   ]
  },
  {
   "cell_type": "code",
   "execution_count": null,
   "metadata": {},
   "outputs": [],
   "source": [
    "from statsmodels.stats.outliers_influence import variance_inflation_factor\n",
    "\n",
    "viffactor = [variance_inflation_factor(X_poly.values, i) for i in range(X_poly.shape[1])]\n",
    "\n",
    "vif = pd.DataFrame()\n",
    "vif[\"VIF Factor\"] = viffactor\n",
    "#[variance_inflation_factor(df_features.values, i) for i in range(df_features.shape[1])]\n",
    "vif[\"features\"] = X_poly.columns\n",
    "vif = vif.round(1).sort_values(\"VIF Factor\",ascending=True)\n",
    "worst_features = vif[vif['VIF Factor']>20]['features']"
   ]
  },
  {
   "cell_type": "code",
   "execution_count": null,
   "metadata": {},
   "outputs": [],
   "source": [
    "X_poly = X_poly.drop(worst_features,axis=1)"
   ]
  },
  {
   "cell_type": "code",
   "execution_count": null,
   "metadata": {},
   "outputs": [],
   "source": [
    "X_train, X_test, y_train, y_test = train_test_split(X_poly,y,test_size=.25, random_state=0)"
   ]
  },
  {
   "cell_type": "code",
   "execution_count": null,
   "metadata": {},
   "outputs": [],
   "source": [
    "logreg_poly_vif = LogisticRegressionCV(solver='liblinear',max_iter=1000, cv=10, class_weight='balanced',scoring='f1')\n",
    "\n",
    "logreg_poly_vif.fit(X_train, y_train)\n",
    "\n",
    "y_hat_train = logreg_poly_vif.predict(X_train)\n",
    "y_hat_test = logreg_poly_vif.predict(X_test)"
   ]
  },
  {
   "cell_type": "code",
   "execution_count": null,
   "metadata": {},
   "outputs": [],
   "source": [
    "update_tracker(logreg_poly_vif,'logreg_poly_vif',y_train, y_hat_train, y_test, y_hat_test)\n",
    "tracker.head(20)"
   ]
  },
  {
   "cell_type": "code",
   "execution_count": null,
   "metadata": {},
   "outputs": [],
   "source": [
    "get_best_features(logreg_poly_vif, X_poly).sort_values(by='coef_val')"
   ]
  }
 ],
 "metadata": {
  "kernelspec": {
   "display_name": "Python 3",
   "language": "python",
   "name": "python3"
  },
  "language_info": {
   "codemirror_mode": {
    "name": "ipython",
    "version": 3
   },
   "file_extension": ".py",
   "mimetype": "text/x-python",
   "name": "python",
   "nbconvert_exporter": "python",
   "pygments_lexer": "ipython3",
   "version": "3.8.3"
  }
 },
 "nbformat": 4,
 "nbformat_minor": 4
}
